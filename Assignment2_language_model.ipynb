{
 "cells": [
  {
   "cell_type": "markdown",
   "metadata": {},
   "source": [
    "# Probability Based"
   ]
  },
  {
   "cell_type": "code",
   "execution_count": 1,
   "metadata": {
    "collapsed": true
   },
   "outputs": [],
   "source": [
    "import re,time,random\n",
    "from collections import Counter\n",
    "import matplotlib.pyplot as plt\n",
    "from matplotlib.pyplot import xscale,yscale,title,plot\n",
    "from functools import reduce\n",
    "from operator import mul,add"
   ]
  },
  {
   "cell_type": "code",
   "execution_count": 2,
   "metadata": {
    "collapsed": true
   },
   "outputs": [],
   "source": [
    "fs=\"wikizh/std_wikis\"\n",
    "fl=\"wikizh/std_wikil\""
   ]
  },
  {
   "cell_type": "code",
   "execution_count": 3,
   "metadata": {
    "collapsed": false
   },
   "outputs": [],
   "source": [
    "wikis=open(fs,encoding='utf-8',errors='ignore').read()"
   ]
  },
  {
   "cell_type": "code",
   "execution_count": 4,
   "metadata": {
    "collapsed": false
   },
   "outputs": [
    {
     "data": {
      "text/plain": [
       "89083942"
      ]
     },
     "execution_count": 4,
     "metadata": {},
     "output_type": "execute_result"
    }
   ],
   "source": [
    "len(wikis)"
   ]
  },
  {
   "cell_type": "code",
   "execution_count": 5,
   "metadata": {
    "collapsed": false
   },
   "outputs": [
    {
     "data": {
      "text/plain": [
       "'<doc id=\"5064250\" url=\"https://zh.wikipedia.org/wiki?curid=5064250\" title=\"塞缪尔·J·兰德尔\">\\n塞缪尔·J·兰德尔\\n\\n塞缪'"
      ]
     },
     "execution_count": 5,
     "metadata": {},
     "output_type": "execute_result"
    }
   ],
   "source": [
    "wikis[:100]"
   ]
  },
  {
   "cell_type": "code",
   "execution_count": 6,
   "metadata": {
    "collapsed": false
   },
   "outputs": [],
   "source": [
    "pattern='<.*?>'\n",
    "wikis=re.sub(pattern,'',wikis)\n",
    "# 预处理：繁简转化，去除doc标签，去除回车符"
   ]
  },
  {
   "cell_type": "code",
   "execution_count": 7,
   "metadata": {
    "collapsed": false
   },
   "outputs": [
    {
     "data": {
      "text/plain": [
       "71834783"
      ]
     },
     "execution_count": 7,
     "metadata": {},
     "output_type": "execute_result"
    }
   ],
   "source": [
    "len(wikis)"
   ]
  },
  {
   "cell_type": "code",
   "execution_count": 8,
   "metadata": {
    "collapsed": false
   },
   "outputs": [
    {
     "data": {
      "text/plain": [
       "'\\n塞缪尔·J·兰德尔\\n\\n塞缪尔·杰克逊·兰德尔是美国民主党政治家，于19世纪下半叶担任宾夕法尼亚州联邦众议员，曾是第33任众议院议长，并两次参与党派美国总统候选人提名的竞争。\\n\\n兰德尔生于费城辉格党政'"
      ]
     },
     "execution_count": 8,
     "metadata": {},
     "output_type": "execute_result"
    }
   ],
   "source": [
    "wikis[:100]"
   ]
  },
  {
   "cell_type": "code",
   "execution_count": 9,
   "metadata": {
    "collapsed": true
   },
   "outputs": [],
   "source": [
    "def tokenize(string): \n",
    "    return ''.join(re.findall('[\\w|\\d]+', string))"
   ]
  },
  {
   "cell_type": "code",
   "execution_count": 10,
   "metadata": {
    "collapsed": true
   },
   "outputs": [],
   "source": [
    "wikis=tokenize(wikis)"
   ]
  },
  {
   "cell_type": "code",
   "execution_count": 11,
   "metadata": {
    "collapsed": false
   },
   "outputs": [
    {
     "data": {
      "text/plain": [
       "62032917"
      ]
     },
     "execution_count": 11,
     "metadata": {},
     "output_type": "execute_result"
    }
   ],
   "source": [
    "len(wikis)"
   ]
  },
  {
   "cell_type": "code",
   "execution_count": 12,
   "metadata": {
    "collapsed": false
   },
   "outputs": [
    {
     "data": {
      "text/plain": [
       "'塞缪尔J兰德尔塞缪尔杰克逊兰德尔是美国民主党政治家于19世纪下半叶担任宾夕法尼亚州联邦众议员曾是第33任众议院议长并两次参与党派美国总统候选人提名的竞争兰德尔生于费城辉格党政治世家在辉格党消亡后加入民'"
      ]
     },
     "execution_count": 12,
     "metadata": {},
     "output_type": "execute_result"
    }
   ],
   "source": [
    "wikis[:100]"
   ]
  },
  {
   "cell_type": "markdown",
   "metadata": {
    "collapsed": true
   },
   "source": [
    "## Unigram"
   ]
  },
  {
   "cell_type": "code",
   "execution_count": 13,
   "metadata": {
    "collapsed": false
   },
   "outputs": [
    {
     "data": {
      "text/plain": [
       "[('的', 1482667),\n",
       " ('1', 1061774),\n",
       " ('0', 787091),\n",
       " ('年', 725667),\n",
       " ('2', 682448),\n",
       " ('在', 493886),\n",
       " ('一', 468905),\n",
       " ('人', 456118),\n",
       " ('为', 449617),\n",
       " ('9', 445761),\n",
       " ('国', 444065),\n",
       " ('中', 432361),\n",
       " ('是', 429151),\n",
       " ('于', 396842),\n",
       " ('e', 340012),\n",
       " ('大', 325411),\n",
       " ('a', 304791),\n",
       " ('5', 302377),\n",
       " ('有', 296777),\n",
       " ('3', 294367),\n",
       " ('月', 291112),\n",
       " ('8', 286682),\n",
       " ('和', 280819),\n",
       " ('4', 269121),\n",
       " ('6', 269007),\n",
       " ('日', 268171),\n",
       " ('7', 260109),\n",
       " ('o', 249461),\n",
       " ('i', 246463),\n",
       " ('后', 237189),\n",
       " ('以', 230707),\n",
       " ('会', 230684),\n",
       " ('n', 227925),\n",
       " ('公', 223712),\n",
       " ('r', 220723),\n",
       " ('了', 217860),\n",
       " ('部', 216977),\n",
       " ('学', 213481),\n",
       " ('区', 212561),\n",
       " ('斯', 211089),\n",
       " ('时', 207583),\n",
       " ('地', 206704),\n",
       " ('出', 197685),\n",
       " ('t', 196009),\n",
       " ('成', 193869),\n",
       " ('个', 187530),\n",
       " ('上', 184798),\n",
       " ('他', 182409),\n",
       " ('西', 180419),\n",
       " ('里', 177266),\n",
       " ('名', 175628),\n",
       " ('尔', 173421),\n",
       " ('行', 170412),\n",
       " ('作', 167400),\n",
       " ('第', 165912),\n",
       " ('与', 165745),\n",
       " ('不', 164122),\n",
       " ('方', 163912),\n",
       " ('位', 159977),\n",
       " ('s', 159788),\n",
       " ('发', 159212),\n",
       " ('l', 157676),\n",
       " ('由', 156412),\n",
       " ('南', 153698),\n",
       " ('主', 152848),\n",
       " ('其', 151777),\n",
       " ('之', 147482),\n",
       " ('克', 146260),\n",
       " ('北', 143440),\n",
       " ('分', 143227),\n",
       " ('家', 140361),\n",
       " ('生', 139792),\n",
       " ('并', 139272),\n",
       " ('军', 139193),\n",
       " ('民', 137274),\n",
       " ('到', 137112),\n",
       " ('本', 135726),\n",
       " ('任', 135558),\n",
       " ('该', 134222),\n",
       " ('东', 133484),\n",
       " ('员', 131649),\n",
       " ('度', 130085),\n",
       " ('平', 128021),\n",
       " ('被', 126853),\n",
       " ('用', 126298),\n",
       " ('高', 124833),\n",
       " ('下', 124725),\n",
       " ('海', 124108),\n",
       " ('而', 122280),\n",
       " ('特', 121146),\n",
       " ('及', 121067),\n",
       " ('加', 120934),\n",
       " ('同', 120021),\n",
       " ('动', 120016),\n",
       " ('开', 117528),\n",
       " ('长', 117010),\n",
       " ('亚', 116816),\n",
       " ('台', 116793),\n",
       " ('口', 115693),\n",
       " ('子', 115136),\n",
       " ('来', 115113),\n",
       " ('法', 114057),\n",
       " ('建', 113328),\n",
       " ('利', 112869),\n",
       " ('州', 112722),\n",
       " ('道', 112716),\n",
       " ('政', 112592),\n",
       " ('德', 112176),\n",
       " ('可', 111863),\n",
       " ('自', 111340),\n",
       " ('新', 111244),\n",
       " ('面', 110672),\n",
       " ('三', 110234),\n",
       " ('市', 109299),\n",
       " ('文', 109229),\n",
       " ('这', 109198),\n",
       " ('前', 108320),\n",
       " ('u', 108151),\n",
       " ('进', 108092),\n",
       " ('多', 107663),\n",
       " ('对', 107646),\n",
       " ('路', 106388),\n",
       " ('美', 105742),\n",
       " ('电', 103855),\n",
       " ('最', 103404),\n",
       " ('拉', 103076),\n",
       " ('得', 100175),\n",
       " ('十', 99686),\n",
       " ('二', 97606),\n",
       " ('事', 97530),\n",
       " ('此', 97028),\n",
       " ('至', 96617),\n",
       " ('d', 96370),\n",
       " ('c', 96116),\n",
       " ('也', 95820),\n",
       " ('h', 95811),\n",
       " ('赛', 95414),\n",
       " ('所', 94822),\n",
       " ('过', 94003),\n",
       " ('经', 93764),\n",
       " ('间', 92921),\n",
       " ('表', 92721),\n",
       " ('山', 92523),\n",
       " ('县', 92374),\n",
       " ('将', 92203),\n",
       " ('代', 91795),\n",
       " ('内', 91380),\n",
       " ('m', 91205),\n",
       " ('工', 90563),\n",
       " ('S', 90441),\n",
       " ('罗', 90309),\n",
       " ('马', 89442),\n",
       " ('车', 89242),\n",
       " ('因', 88252),\n",
       " ('物', 88117),\n",
       " ('机', 88099),\n",
       " ('入', 87486),\n",
       " ('等', 87366),\n",
       " ('制', 87357),\n",
       " ('立', 87081),\n",
       " ('教', 86914),\n",
       " ('现', 85895),\n",
       " ('布', 85863),\n",
       " ('米', 84755),\n",
       " ('合', 84330),\n",
       " ('尼', 83309),\n",
       " ('A', 83286),\n",
       " ('战', 82933),\n",
       " ('当', 82787),\n",
       " ('期', 82733),\n",
       " ('共', 82688),\n",
       " ('世', 82505),\n",
       " ('要', 82189),\n",
       " ('次', 82142),\n",
       " ('科', 81923),\n",
       " ('队', 81736),\n",
       " ('线', 81727),\n",
       " ('外', 81603),\n",
       " ('兰', 81088),\n",
       " ('夫', 80784),\n",
       " ('站', 80459),\n",
       " ('设', 80455),\n",
       " ('体', 80442),\n",
       " ('小', 80411),\n",
       " ('业', 79012),\n",
       " ('定', 78464),\n",
       " ('天', 78439),\n",
       " ('能', 78424),\n",
       " ('基', 77896),\n",
       " ('安', 77849),\n",
       " ('全', 77680),\n",
       " ('理', 77367),\n",
       " ('C', 76179),\n",
       " ('球', 75653),\n",
       " ('卡', 75214),\n",
       " ('使', 75078),\n",
       " ('场', 74395),\n",
       " ('通', 74107),\n",
       " ('士', 73735),\n",
       " ('治', 73705),\n",
       " ('者', 72856),\n",
       " ('联', 71915),\n",
       " ('号', 71623),\n",
       " ('称', 71377),\n",
       " ('管', 70740),\n",
       " ('式', 70290),\n",
       " ('列', 70101),\n",
       " ('但', 69853),\n",
       " ('运', 69770),\n",
       " ('格', 69540),\n",
       " ('化', 69496),\n",
       " ('性', 68995),\n",
       " ('明', 68917),\n",
       " ('影', 68784),\n",
       " ('院', 68624),\n",
       " ('系', 68436),\n",
       " ('选', 68363),\n",
       " ('比', 67679),\n",
       " ('组', 67507),\n",
       " ('演', 67469),\n",
       " ('两', 66661),\n",
       " ('重', 66471),\n",
       " ('司', 65930),\n",
       " ('T', 65427),\n",
       " ('城', 65100),\n",
       " ('参', 65071),\n",
       " ('都', 65001),\n",
       " ('正', 64876),\n",
       " ('M', 64430),\n",
       " ('达', 63730),\n",
       " ('数', 63727),\n",
       " ('府', 63016),\n",
       " ('向', 62130),\n",
       " ('始', 61983),\n",
       " ('金', 61821),\n",
       " ('计', 61814),\n",
       " ('关', 61791),\n",
       " ('王', 61763),\n",
       " ('目', 61673),\n",
       " ('首', 61558),\n",
       " ('女', 61542),\n",
       " ('委', 61443),\n",
       " ('g', 61347),\n",
       " ('力', 61334),\n",
       " ('相', 61124),\n",
       " ('曾', 61013),\n",
       " ('英', 60634),\n",
       " ('省', 60567),\n",
       " ('种', 60404),\n",
       " ('四', 60388),\n",
       " ('巴', 60270),\n",
       " ('统', 60201),\n",
       " ('林', 59974),\n",
       " ('阿', 59949),\n",
       " ('华', 59639),\n",
       " ('总', 59587),\n",
       " ('改', 59404),\n",
       " ('约', 59059),\n",
       " ('属', 58920),\n",
       " ('水', 58753),\n",
       " ('原', 58359),\n",
       " ('p', 58166),\n",
       " ('议', 57390),\n",
       " ('们', 56567),\n",
       " ('起', 56286),\n",
       " ('乐', 56210),\n",
       " ('提', 56012),\n",
       " ('心', 55898),\n",
       " ('y', 55707),\n",
       " ('从', 55655),\n",
       " ('元', 55308),\n",
       " ('P', 54629),\n",
       " ('B', 54479),\n",
       " ('获', 52174),\n",
       " ('界', 51973),\n",
       " ('书', 51857),\n",
       " ('村', 51758),\n",
       " ('I', 51719),\n",
       " ('点', 51497),\n",
       " ('每', 51479),\n",
       " ('务', 51246),\n",
       " ('团', 51132),\n",
       " ('或', 51116),\n",
       " ('维', 51001),\n",
       " ('产', 50951),\n",
       " ('手', 50869),\n",
       " ('积', 50849),\n",
       " ('交', 50405),\n",
       " ('接', 50229),\n",
       " ('党', 50048),\n",
       " ('形', 49929),\n",
       " ('受', 49752),\n",
       " ('常', 49627),\n",
       " ('港', 49444),\n",
       " ('D', 49427),\n",
       " ('导', 49269),\n",
       " ('视', 49057),\n",
       " ('如', 48454),\n",
       " ('级', 48442),\n",
       " ('风', 48166),\n",
       " ('河', 48080),\n",
       " ('处', 48055),\n",
       " ('责', 47609),\n",
       " ('义', 47560),\n",
       " ('音', 47506),\n",
       " ('奥', 47492),\n",
       " ('程', 47334),\n",
       " ('负', 46877),\n",
       " ('身', 46642),\n",
       " ('指', 46465),\n",
       " ('广', 46418),\n",
       " ('然', 45986),\n",
       " ('字', 45683),\n",
       " ('f', 45647),\n",
       " ('五', 45510),\n",
       " ('则', 45383),\n",
       " ('密', 45359),\n",
       " ('辖', 45342),\n",
       " ('语', 45336),\n",
       " ('E', 45273),\n",
       " ('包', 45166),\n",
       " ('实', 45150),\n",
       " ('直', 44856),\n",
       " ('门', 44797),\n",
       " ('流', 44479),\n",
       " ('朝', 44472),\n",
       " ('保', 44315),\n",
       " ('无', 44269),\n",
       " ('单', 44145),\n",
       " ('已', 43939),\n",
       " ('说', 43745),\n",
       " ('社', 43714),\n",
       " ('就', 43498),\n",
       " ('意', 43455),\n",
       " ('曲', 43220),\n",
       " ('N', 43209),\n",
       " ('官', 43062),\n",
       " ('师', 42933),\n",
       " ('R', 42916),\n",
       " ('史', 42696),\n",
       " ('万', 42639),\n",
       " ('集', 42630),\n",
       " ('父', 42596),\n",
       " ('剧', 42575),\n",
       " ('量', 42553),\n",
       " ('结', 42398),\n",
       " ('品', 42333),\n",
       " ('专', 42247),\n",
       " ('色', 42139),\n",
       " ('张', 42076),\n",
       " ('带', 42043),\n",
       " ('湾', 42002),\n",
       " ('回', 41822),\n",
       " ('落', 41736),\n",
       " ('局', 41680),\n",
       " ('传', 41668),\n",
       " ('举', 41607),\n",
       " ('游', 41510),\n",
       " ('认', 41373),\n",
       " ('领', 41366),\n",
       " ('b', 41364),\n",
       " ('别', 41318),\n",
       " ('镇', 41050),\n",
       " ('普', 40828),\n",
       " ('太', 40808),\n",
       " ('转', 40724),\n",
       " ('据', 40671),\n",
       " ('校', 40563),\n",
       " ('应', 40486),\n",
       " ('伊', 40427),\n",
       " ('展', 40356),\n",
       " ('铁', 40222),\n",
       " ('G', 39950),\n",
       " ('纳', 39803),\n",
       " ('持', 39497),\n",
       " ('示', 39489),\n",
       " ('她', 39335),\n",
       " ('L', 39261),\n",
       " ('些', 39170),\n",
       " ('型', 39148),\n",
       " ('还', 39050),\n",
       " ('乡', 39011),\n",
       " ('节', 38767),\n",
       " ('资', 38634),\n",
       " ('报', 38592),\n",
       " ('O', 38547),\n",
       " ('乌', 38440),\n",
       " ('击', 38410),\n",
       " ('纪', 38409),\n",
       " ('际', 37892),\n",
       " ('k', 37707),\n",
       " ('舰', 37574),\n",
       " ('信', 37567),\n",
       " ('术', 37521),\n",
       " ('波', 37327),\n",
       " ('星', 37308),\n",
       " ('标', 37295),\n",
       " ('空', 37287),\n",
       " ('往', 37281),\n",
       " ('古', 37268),\n",
       " ('更', 37192),\n",
       " ('命', 37191),\n",
       " ('歌', 37165),\n",
       " ('近', 36831),\n",
       " ('江', 36810),\n",
       " ('支', 36619),\n",
       " ('香', 36516),\n",
       " ('岛', 36457),\n",
       " ('片', 36429),\n",
       " ('取', 36394),\n",
       " ('各', 36207),\n",
       " ('京', 36144),\n",
       " ('研', 36109),\n",
       " ('季', 35991),\n",
       " ('石', 35990),\n",
       " ('气', 35919),\n",
       " ('图', 35644),\n",
       " ('类', 35535),\n",
       " ('记', 35163),\n",
       " ('造', 35121),\n",
       " ('情', 35075),\n",
       " ('历', 34662),\n",
       " ('亲', 34499),\n",
       " ('活', 34433),\n",
       " ('苏', 34335),\n",
       " ('解', 34333),\n",
       " ('周', 34302),\n",
       " ('它', 34297),\n",
       " ('放', 34147),\n",
       " ('H', 34108),\n",
       " ('居', 34043),\n",
       " ('六', 33968),\n",
       " ('创', 33952),\n",
       " ('决', 33931),\n",
       " ('没', 33793),\n",
       " ('只', 33758),\n",
       " ('办', 33678),\n",
       " ('座', 33609),\n",
       " ('族', 33558),\n",
       " ('试', 33489),\n",
       " ('件', 33439),\n",
       " ('著', 33264),\n",
       " ('播', 33060),\n",
       " ('职', 33016),\n",
       " ('神', 32861),\n",
       " ('反', 32844),\n",
       " ('塔', 32791),\n",
       " ('知', 32722),\n",
       " ('洲', 32653),\n",
       " ('v', 32616),\n",
       " ('武', 32587),\n",
       " ('F', 32483),\n",
       " ('角', 32307),\n",
       " ('李', 32300),\n",
       " ('w', 32276),\n",
       " ('版', 32238),\n",
       " ('边', 32143),\n",
       " ('福', 31981),\n",
       " ('少', 31941),\n",
       " ('洛', 31891),\n",
       " ('清', 31769),\n",
       " ('光', 31660),\n",
       " ('收', 31599),\n",
       " ('论', 31563),\n",
       " ('变', 31493),\n",
       " ('初', 31391),\n",
       " ('究', 31119),\n",
       " ('哈', 31079),\n",
       " ('拔', 31013),\n",
       " ('庄', 30983),\n",
       " ('强', 30964),\n",
       " ('坑', 30939),\n",
       " ('查', 30885),\n",
       " ('担', 30849),\n",
       " ('非', 30780),\n",
       " ('网', 30772),\n",
       " ('戏', 30312),\n",
       " ('括', 30285),\n",
       " ('连', 30248),\n",
       " ('萨', 30169),\n",
       " ('母', 30068),\n",
       " ('编', 29829),\n",
       " ('再', 29811),\n",
       " ('调', 29791),\n",
       " ('装', 29692),\n",
       " ('先', 29599),\n",
       " ('瓦', 29541),\n",
       " ('商', 29516),\n",
       " ('打', 29466),\n",
       " ('头', 29437),\n",
       " ('博', 29419),\n",
       " ('器', 29357),\n",
       " ('K', 29294),\n",
       " ('画', 29265),\n",
       " ('环', 29247),\n",
       " ('诺', 29245),\n",
       " ('去', 29186),\n",
       " ('馆', 29128),\n",
       " ('录', 29072),\n",
       " ('威', 29063),\n",
       " ('奖', 28999),\n",
       " ('未', 28978),\n",
       " ('又', 28957),\n",
       " ('协', 28897),\n",
       " ('段', 28851),\n",
       " ('根', 28835),\n",
       " ('条', 28624),\n",
       " ('随', 28609),\n",
       " ('园', 28552),\n",
       " ('离', 28526),\n",
       " ('吉', 28511),\n",
       " ('八', 28507),\n",
       " ('即', 28475),\n",
       " ('划', 28326),\n",
       " ('权', 28313),\n",
       " ('续', 28258),\n",
       " ('百', 28135),\n",
       " ('观', 28037),\n",
       " ('足', 27984),\n",
       " ('项', 27746),\n",
       " ('登', 27536),\n",
       " ('兵', 27515),\n",
       " ('完', 27484),\n",
       " ('帝', 27407),\n",
       " ('派', 27394),\n",
       " ('祖', 27360),\n",
       " ('圣', 27279),\n",
       " ('副', 27234),\n",
       " ('育', 27086),\n",
       " ('宗', 27036),\n",
       " ('希', 27008),\n",
       " ('题', 27006),\n",
       " ('汉', 26924),\n",
       " ('卫', 26871),\n",
       " ('许', 26837),\n",
       " ('V', 26770),\n",
       " ('速', 26689),\n",
       " ('宣', 26681),\n",
       " ('男', 26525),\n",
       " ('复', 26416),\n",
       " ('青', 26361),\n",
       " ('今', 26352),\n",
       " ('托', 26299),\n",
       " ('致', 26286),\n",
       " ('爱', 26200),\n",
       " ('服', 26076),\n",
       " ('土', 26061),\n",
       " ('氏', 26002),\n",
       " ('雷', 25960),\n",
       " ('构', 25893),\n",
       " ('奇', 25786),\n",
       " ('且', 25774),\n",
       " ('白', 25768),\n",
       " ('果', 25660),\n",
       " ('除', 25590),\n",
       " ('修', 25568),\n",
       " ('令', 25505),\n",
       " ('给', 25423),\n",
       " ('艺', 25396),\n",
       " ('准', 25385),\n",
       " ('置', 25385),\n",
       " ('投', 25377),\n",
       " ('营', 25198),\n",
       " ('鲁', 25145),\n",
       " ('伦', 25105),\n",
       " ('域', 25094),\n",
       " ('九', 25010),\n",
       " ('评', 24935),\n",
       " ('甲', 24843),\n",
       " ('规', 24841),\n",
       " ('问', 24740),\n",
       " ('推', 24635),\n",
       " ('供', 24627),\n",
       " ('W', 24605),\n",
       " ('兴', 24307),\n",
       " ('终', 24247),\n",
       " ('陈', 24228),\n",
       " ('陆', 24167),\n",
       " ('我', 24107),\n",
       " ('案', 24088),\n",
       " ('俄', 24058),\n",
       " ('田', 24019),\n",
       " ('众', 23976),\n",
       " ('阳', 23907),\n",
       " ('伯', 23732),\n",
       " ('超', 23722),\n",
       " ('勒', 23705),\n",
       " ('儿', 23704),\n",
       " ('街', 23567),\n",
       " ('好', 23526),\n",
       " ('引', 23445),\n",
       " ('七', 23428),\n",
       " ('湖', 23415),\n",
       " ('热', 23409),\n",
       " ('争', 23313),\n",
       " ('份', 23308),\n",
       " ('死', 23265),\n",
       " ('存', 23263),\n",
       " ('备', 23250),\n",
       " ('侧', 23176),\n",
       " ('告', 23160),\n",
       " ('室', 23139),\n",
       " ('较', 23128),\n",
       " ('源', 23115),\n",
       " ('助', 23059),\n",
       " ('亦', 23028),\n",
       " ('堂', 23009),\n",
       " ('护', 23002),\n",
       " ('升', 22955),\n",
       " ('印', 22891),\n",
       " ('功', 22856),\n",
       " ('技', 22788),\n",
       " ('另', 22700),\n",
       " ('织', 22693),\n",
       " ('洋', 22577),\n",
       " ('见', 22540),\n",
       " ('央', 22507),\n",
       " ('莱', 22451),\n",
       " ('客', 22334),\n",
       " ('龙', 22321),\n",
       " ('言', 22202),\n",
       " ('求', 22121),\n",
       " ('容', 22092),\n",
       " ('均', 22081),\n",
       " ('农', 22075),\n",
       " ('班', 21935),\n",
       " ('黄', 21875),\n",
       " ('厅', 21834),\n",
       " ('围', 21772),\n",
       " ('故', 21743),\n",
       " ('己', 21690),\n",
       " ('森', 21674),\n",
       " ('样', 21671),\n",
       " ('具', 21650),\n",
       " ('火', 21549),\n",
       " ('排', 21479),\n",
       " ('筑', 21397),\n",
       " ('深', 21340),\n",
       " ('境', 21336),\n",
       " ('率', 21310),\n",
       " ('那', 21246),\n",
       " ('济', 21246),\n",
       " ('席', 21243),\n",
       " ('志', 21144),\n",
       " ('质', 21140),\n",
       " ('止', 21082),\n",
       " ('辑', 21071),\n",
       " ('欧', 21003),\n",
       " ('警', 20960),\n",
       " ('届', 20957),\n",
       " ('模', 20851),\n",
       " ('姆', 20843),\n",
       " ('象', 20787),\n",
       " ('整', 20746),\n",
       " ('像', 20699),\n",
       " ('察', 20664),\n",
       " ('继', 20638),\n",
       " ('沙', 20635),\n",
       " ('很', 20547),\n",
       " ('老', 20500),\n",
       " ('航', 20497),\n",
       " ('攻', 20478),\n",
       " ('双', 20400),\n",
       " ('U', 20270),\n",
       " ('医', 20256),\n",
       " ('防', 20250),\n",
       " ('刘', 20248),\n",
       " ('J', 20041),\n",
       " ('花', 19848),\n",
       " ('配', 19826),\n",
       " ('例', 19677),\n",
       " ('哥', 19669),\n",
       " ('岁', 19646),\n",
       " ('早', 19631),\n",
       " ('越', 19621),\n",
       " ('层', 19601),\n",
       " ('杀', 19580),\n",
       " ('独', 19556),\n",
       " ('预', 19519),\n",
       " ('韩', 19441),\n",
       " ('让', 19438),\n",
       " ('沃', 19334),\n",
       " ('声', 19308),\n",
       " ('半', 19292),\n",
       " ('增', 19289),\n",
       " ('恩', 19254),\n",
       " ('住', 19198),\n",
       " ('曼', 19166),\n",
       " ('写', 19162),\n",
       " ('限', 19119),\n",
       " ('失', 19017),\n",
       " ('索', 18985),\n",
       " ('群', 18960),\n",
       " ('库', 18899),\n",
       " ('范', 18881),\n",
       " ('塞', 18871),\n",
       " ('感', 18826),\n",
       " ('响', 18813),\n",
       " ('郡', 18792),\n",
       " ('票', 18791),\n",
       " ('证', 18686),\n",
       " ('何', 18588),\n",
       " ('移', 18479),\n",
       " ('真', 18450),\n",
       " ('泰', 18414),\n",
       " ('飞', 18410),\n",
       " ('皇', 18361),\n",
       " ('易', 18245),\n",
       " ('齐', 18230),\n",
       " ('低', 18210),\n",
       " ('施', 18191),\n",
       " ('户', 18158),\n",
       " ('川', 18128),\n",
       " ('需', 18069),\n",
       " ('唱', 18050),\n",
       " ('考', 18002),\n",
       " ('房', 17984),\n",
       " ('采', 17964),\n",
       " ('费', 17944),\n",
       " ('桥', 17864),\n",
       " ('留', 17856),\n",
       " ('顿', 17848),\n",
       " ('想', 17803),\n",
       " ('隶', 17789),\n",
       " ('黑', 17746),\n",
       " ('测', 17736),\n",
       " ('着', 17726),\n",
       " ('梅', 17720),\n",
       " ('射', 17611),\n",
       " ('律', 17536),\n",
       " ('红', 17514),\n",
       " ('授', 17506),\n",
       " ('占', 17489),\n",
       " ('习', 17470),\n",
       " ('宁', 17451),\n",
       " ('景', 17356),\n",
       " ('贝', 17288),\n",
       " ('盟', 17248),\n",
       " ('嘉', 17161),\n",
       " ('迪', 17143),\n",
       " ('批', 17039),\n",
       " ('云', 16977),\n",
       " ('降', 16945),\n",
       " ('食', 16887),\n",
       " ('便', 16885),\n",
       " ('楼', 16860),\n",
       " ('胜', 16824),\n",
       " ('船', 16797),\n",
       " ('籍', 16769),\n",
       " ('步', 16731),\n",
       " ('执', 16695),\n",
       " ('莫', 16655),\n",
       " ('仍', 16650),\n",
       " ('消', 16540),\n",
       " ('千', 16538),\n",
       " ('承', 16507),\n",
       " ('底', 16482),\n",
       " ('守', 16465),\n",
       " ('附', 16443),\n",
       " ('干', 16400),\n",
       " ('切', 16389),\n",
       " ('夏', 16377),\n",
       " ('效', 16356),\n",
       " ('仅', 16318),\n",
       " ('才', 16301),\n",
       " ('几', 16258),\n",
       " ('控', 16240),\n",
       " ('监', 16232),\n",
       " ('冠', 16225),\n",
       " ('耶', 16166),\n",
       " ('停', 16150),\n",
       " ('埃', 16106),\n",
       " ('木', 16067),\n",
       " ('堡', 16058),\n",
       " ('友', 16033),\n",
       " ('念', 15965),\n",
       " ('料', 15853),\n",
       " ('走', 15821),\n",
       " ('杰', 15804),\n",
       " ('看', 15753),\n",
       " ('显', 15713),\n",
       " ('远', 15710),\n",
       " ('请', 15709),\n",
       " ('宫', 15705),\n",
       " ('左', 15697),\n",
       " ('帕', 15654),\n",
       " ('革', 15651),\n",
       " ('状', 15619),\n",
       " ('注', 15579),\n",
       " ('极', 15565),\n",
       " ('什', 15554),\n",
       " ('载', 15541),\n",
       " ('牌', 15540),\n",
       " ('瑞', 15539),\n",
       " ('温', 15529),\n",
       " ('病', 15511),\n",
       " ('坦', 15450),\n",
       " ('佛', 15258),\n",
       " ('章', 15205),\n",
       " ('康', 15180),\n",
       " ('压', 15138),\n",
       " ('永', 15091),\n",
       " ('银', 15042),\n",
       " ('典', 15025),\n",
       " ('确', 15004),\n",
       " ('算', 14969),\n",
       " ('弹', 14891),\n",
       " ('余', 14872),\n",
       " ('述', 14870),\n",
       " ('暴', 14855),\n",
       " ('牙', 14822),\n",
       " ('厂', 14778),\n",
       " ('赫', 14766),\n",
       " ('藏', 14755),\n",
       " ('快', 14750),\n",
       " ('照', 14722),\n",
       " ('督', 14679),\n",
       " ('把', 14672),\n",
       " ('皮', 14589),\n",
       " ('邦', 14587),\n",
       " ('毛', 14531),\n",
       " ('隆', 14508),\n",
       " ('满', 14484),\n",
       " ('望', 14456),\n",
       " ('斗', 14439),\n",
       " ('毕', 14424),\n",
       " ('征', 14375),\n",
       " ('弗', 14284),\n",
       " ('思', 14243),\n",
       " ('封', 14221),\n",
       " ('鱼', 14214),\n",
       " ('息', 14186),\n",
       " ('依', 14176),\n",
       " ('丽', 14170),\n",
       " ('端', 14129),\n",
       " ('蒙', 14102),\n",
       " ('话', 14096),\n",
       " ('x', 14072),\n",
       " ('韦', 14035),\n",
       " ('败', 14035),\n",
       " ('丹', 14033),\n",
       " ('做', 14009),\n",
       " ('蒂', 13995),\n",
       " ('丁', 13978),\n",
       " ('拿', 13967),\n",
       " ('饰', 13917),\n",
       " ('澳', 13891),\n",
       " ('退', 13856),\n",
       " ('态', 13843),\n",
       " ('抗', 13821),\n",
       " ('陨', 13814),\n",
       " ('验', 13681),\n",
       " ('艾', 13643),\n",
       " ('卢', 13630),\n",
       " ('右', 13620),\n",
       " ('延', 13589),\n",
       " ('价', 13527),\n",
       " ('庆', 13450),\n",
       " ('礼', 13392),\n",
       " ('精', 13388),\n",
       " ('麦', 13383),\n",
       " ('杨', 13381),\n",
       " ('词', 13375),\n",
       " ('宝', 13339),\n",
       " ('尚', 13334),\n",
       " ('炮', 13298),\n",
       " ('旧', 13276),\n",
       " ('富', 13266),\n",
       " ('吴', 13223),\n",
       " ('素', 13217),\n",
       " ('破', 13217),\n",
       " ('唐', 13195),\n",
       " ('读', 13021),\n",
       " ('简', 13020),\n",
       " ('弟', 12981),\n",
       " ('闻', 12971),\n",
       " ('难', 12964),\n",
       " ('旅', 12924),\n",
       " ('轮', 12890),\n",
       " ('含', 12880),\n",
       " ('佳', 12854),\n",
       " ('练', 12829),\n",
       " ('震', 12816),\n",
       " ('售', 12801),\n",
       " ('朗', 12711),\n",
       " ('兹', 12691),\n",
       " ('久', 12633),\n",
       " ('优', 12592),\n",
       " ('识', 12591),\n",
       " ('岸', 12579),\n",
       " ('摄', 12560),\n",
       " ('断', 12547),\n",
       " ('秘', 12516),\n",
       " ('突', 12487),\n",
       " ('晚', 12463),\n",
       " ('春', 12415),\n",
       " ('遭', 12398),\n",
       " ('轻', 12393),\n",
       " ('况', 12392),\n",
       " ('势', 12341),\n",
       " ('Y', 12334),\n",
       " ('寺', 12234),\n",
       " ('似', 12216),\n",
       " ('顺', 12187),\n",
       " ('店', 12121),\n",
       " ('戈', 12112),\n",
       " ('归', 12095),\n",
       " ('候', 12088),\n",
       " ('频', 12050),\n",
       " ('谢', 12034),\n",
       " ('纽', 12017),\n",
       " ('z', 12009),\n",
       " ('临', 11992),\n",
       " ('兼', 11990),\n",
       " ('菲', 11985),\n",
       " ('虽', 11927),\n",
       " ('却', 11901),\n",
       " ('雄', 11871),\n",
       " ('巡', 11863),\n",
       " ('判', 11857),\n",
       " ('拥', 11751),\n",
       " ('松', 11727),\n",
       " ('秀', 11696),\n",
       " ('映', 11680),\n",
       " ('伤', 11646),\n",
       " ('细', 11597),\n",
       " ('酒', 11560),\n",
       " ('X', 11522),\n",
       " ('雅', 11448),\n",
       " ('严', 11436),\n",
       " ('庭', 11416),\n",
       " ('微', 11411),\n",
       " ('送', 11404),\n",
       " ('玛', 11394),\n",
       " ('值', 11376),\n",
       " ('野', 11367),\n",
       " ('亡', 11362),\n",
       " ('叶', 11308),\n",
       " ('款', 11264),\n",
       " ('末', 11183),\n",
       " ('架', 11174),\n",
       " ('逐', 11155),\n",
       " ('溪', 11144),\n",
       " ('灵', 11136),\n",
       " ('庙', 11129),\n",
       " ('驻', 11127),\n",
       " ('泽', 11091),\n",
       " ('距', 11079),\n",
       " ('茨', 11048),\n",
       " ('拍', 11032),\n",
       " ('必', 11016),\n",
       " ('_', 10976),\n",
       " ('劳', 10967),\n",
       " ('换', 10952),\n",
       " ('荣', 10929),\n",
       " ('孙', 10900),\n",
       " ('摩', 10885),\n",
       " ('梁', 10878),\n",
       " ('旋', 10875),\n",
       " ('凯', 10847),\n",
       " ('板', 10843),\n",
       " ('顶', 10842),\n",
       " ('竹', 10823),\n",
       " ('启', 10797),\n",
       " ('散', 10759),\n",
       " ('策', 10735),\n",
       " ('晋', 10700),\n",
       " ('阵', 10691),\n",
       " ('盖', 10681),\n",
       " ('宾', 10661),\n",
       " ('霍', 10652),\n",
       " ('旗', 10632),\n",
       " ('枪', 10597),\n",
       " ('树', 10575),\n",
       " ('训', 10574),\n",
       " ('喜', 10536),\n",
       " ('序', 10530),\n",
       " ('遗', 10524),\n",
       " ('乔', 10503),\n",
       " ('径', 10480),\n",
       " ('舞', 10464),\n",
       " ('钟', 10438),\n",
       " ('穆', 10436),\n",
       " ('善', 10413),\n",
       " ('羽', 10409),\n",
       " ('销', 10372),\n",
       " ('害', 10372),\n",
       " ('胡', 10360),\n",
       " ('异', 10318),\n",
       " ('若', 10296),\n",
       " ('役', 10293),\n",
       " ('沿', 10285),\n",
       " ('良', 10283),\n",
       " ('聚', 10240),\n",
       " ('短', 10229),\n",
       " ('救', 10205),\n",
       " ('杜', 10181),\n",
       " ('媒', 10152),\n",
       " ('股', 10144),\n",
       " ('油', 10138),\n",
       " ...]"
      ]
     },
     "execution_count": 13,
     "metadata": {},
     "output_type": "execute_result"
    }
   ],
   "source": [
    "all_counts=Counter(wikis)\n",
    "all_counts.most_common()"
   ]
  },
  {
   "cell_type": "code",
   "execution_count": 14,
   "metadata": {
    "collapsed": false
   },
   "outputs": [
    {
     "data": {
      "image/png": "[encoded data removed]",
      "text/plain": [
       "<Figure size 432x288 with 1 Axes>"
      ]
     },
     "metadata": {},
     "output_type": "display_data"
    }
   ],
   "source": [
    "yscale('log'); xscale('log'); \n",
    "title('Frequency of n-th most frequent word and 1/n line.')\n",
    "M=all_counts.most_common()[0][1]\n",
    "plot([c for (w, c) in all_counts.most_common()])\n",
    "plot([M/i for i in range(1, len(all_counts)+1)])\n",
    "plt.show()"
   ]
  },
  {
   "cell_type": "code",
   "execution_count": 15,
   "metadata": {
    "collapsed": true
   },
   "outputs": [],
   "source": [
    "def get_prob_from_counts(count):\n",
    "    all_occurences=sum(count.values())\n",
    "    def get_prob(item):\n",
    "        return count[item]/all_occurences\n",
    "    return get_prob\n",
    "get_char_prob=get_prob_from_counts(all_counts)\n",
    "# all_occurence只计算一次，而且不会像全局变量一样容易受到影响"
   ]
  },
  {
   "cell_type": "code",
   "execution_count": 16,
   "metadata": {
    "collapsed": false
   },
   "outputs": [
    {
     "data": {
      "text/plain": [
       "0.0003042094570532609"
      ]
     },
     "execution_count": 16,
     "metadata": {},
     "output_type": "execute_result"
    }
   ],
   "source": [
    "get_char_prob('塞')"
   ]
  },
  {
   "cell_type": "code",
   "execution_count": 17,
   "metadata": {
    "collapsed": true
   },
   "outputs": [],
   "source": [
    "def get_running_time(func,arg,times):\n",
    "    start_time=time.time()\n",
    "    for _ in range(times):\n",
    "        func(arg)\n",
    "    print('{} used time is {}'.format(func.__name__,time.time()-start_time))"
   ]
  },
  {
   "cell_type": "code",
   "execution_count": 18,
   "metadata": {
    "collapsed": false
   },
   "outputs": [
    {
     "name": "stdout",
     "output_type": "stream",
     "text": [
      "get_prob used time is 0.018343687057495117\n"
     ]
    }
   ],
   "source": [
    "random_chars=random.sample(wikis,1000)\n",
    "get_running_time(get_char_prob,'缪',10000)"
   ]
  },
  {
   "cell_type": "code",
   "execution_count": 19,
   "metadata": {
    "collapsed": true
   },
   "outputs": [],
   "source": [
    "def get_char_probability(char):\n",
    "    all_occurences=sum(all_counts.values())\n",
    "    return all_counts[char]/all_occurences"
   ]
  },
  {
   "cell_type": "code",
   "execution_count": 20,
   "metadata": {
    "collapsed": false
   },
   "outputs": [
    {
     "name": "stdout",
     "output_type": "stream",
     "text": [
      "get_char_probability used time is 5.488724708557129\n"
     ]
    }
   ],
   "source": [
    "get_running_time(get_char_probability,'缪',10000)"
   ]
  },
  {
   "cell_type": "code",
   "execution_count": 21,
   "metadata": {
    "collapsed": true
   },
   "outputs": [],
   "source": [
    "def prob_of_string(string):\n",
    "    return reduce(mul,[get_char_prob(c) for c in string])"
   ]
  },
  {
   "cell_type": "code",
   "execution_count": 22,
   "metadata": {
    "collapsed": false
   },
   "outputs": [
    {
     "data": {
      "text/plain": [
       "1.9273694208686607e-31"
      ]
     },
     "execution_count": 22,
     "metadata": {},
     "output_type": "execute_result"
    }
   ],
   "source": [
    "prob_of_string(\"这是一个常见的测试用例\")"
   ]
  },
  {
   "cell_type": "code",
   "execution_count": 23,
   "metadata": {
    "collapsed": false
   },
   "outputs": [
    {
     "data": {
      "text/plain": [
       "1.4435755007090523e-32"
      ]
     },
     "execution_count": 23,
     "metadata": {},
     "output_type": "execute_result"
    }
   ],
   "source": [
    "prob_of_string(\"这是一个罕见的测试用例\")"
   ]
  },
  {
   "cell_type": "markdown",
   "metadata": {},
   "source": [
    "## 2-Gram"
   ]
  },
  {
   "cell_type": "code",
   "execution_count": 24,
   "metadata": {
    "collapsed": false
   },
   "outputs": [],
   "source": [
    "gram_len=2\n",
    "two_gram_counts=Counter(wikis[i:i+gram_len] for i in range(len(wikis)-gram_len))"
   ]
  },
  {
   "cell_type": "code",
   "execution_count": 25,
   "metadata": {
    "collapsed": false
   },
   "outputs": [
    {
     "data": {
      "text/plain": [
       "[('20', 320890),\n",
       " ('19', 241125),\n",
       " ('01', 226738),\n",
       " ('00', 173009),\n",
       " ('年1', 96757),\n",
       " ('10', 94945),\n",
       " ('一个', 82220),\n",
       " ('18', 81087),\n",
       " ('位于', 80201),\n",
       " ('公里', 77127),\n",
       " ('人口', 75611),\n",
       " ('16', 74201),\n",
       " ('6年', 71833),\n",
       " ('12', 71540),\n",
       " ('15', 68917),\n",
       " ('0年', 68747),\n",
       " ('11', 68547),\n",
       " ('7年', 67984),\n",
       " ('17', 66190),\n",
       " ('中国', 65943)]"
      ]
     },
     "execution_count": 25,
     "metadata": {},
     "output_type": "execute_result"
    }
   ],
   "source": [
    "two_gram_counts.most_common()[:20]"
   ]
  },
  {
   "cell_type": "code",
   "execution_count": 26,
   "metadata": {
    "collapsed": true
   },
   "outputs": [],
   "source": [
    "get_pair_prob=get_prob_from_counts(two_gram_counts)                              "
   ]
  },
  {
   "cell_type": "code",
   "execution_count": 27,
   "metadata": {
    "collapsed": false
   },
   "outputs": [
    {
     "data": {
      "text/plain": [
       "0.0012188851676565578"
      ]
     },
     "execution_count": 27,
     "metadata": {},
     "output_type": "execute_result"
    }
   ],
   "source": [
    "get_pair_prob(\"人口\")"
   ]
  },
  {
   "cell_type": "code",
   "execution_count": 34,
   "metadata": {
    "collapsed": true
   },
   "outputs": [],
   "source": [
    "def get_2_gram_prob(word,prev):\n",
    "    if get_pair_prob(word+prev)>0:\n",
    "        return get_pair_prob(word+prev)/get_char_prob(prev)\n",
    "    else:\n",
    "        return get_char_prob(word)\n",
    "\n",
    "def get_2_gram_string_prob(string):\n",
    "    probabilities=[]\n",
    "    for i,c in enumerate(string):\n",
    "        prev= '<s>' if i==0 else string[i-1]\n",
    "        probabilities.append(get_2_gram_prob(c,prev))\n",
    "    return reduce(mul,probabilities)\n",
    "        "
   ]
  },
  {
   "cell_type": "code",
   "execution_count": 29,
   "metadata": {
    "collapsed": true
   },
   "outputs": [],
   "source": [
    "pair1 = \"\"\"前天晚上吃晚饭的时候\n",
    "前天晚上吃早饭的时候\"\"\".split('\\n')\n",
    "pair2 = \"\"\"前天早上吃晚饭的时候\n",
    "前天早上吃早饭的时候\"\"\".split('\\n')\n",
    "pairs =[pair1, pair2]"
   ]
  },
  {
   "cell_type": "code",
   "execution_count": 30,
   "metadata": {
    "collapsed": true
   },
   "outputs": [],
   "source": [
    "def get_prob_prefromance(language_model_func, pairs):\n",
    "    for (p1, p2) in pairs:\n",
    "        print('{} with probability {}'.format(p1, language_model_func(tokenize(p1))))\n",
    "        print('{} with probability {}'.format(p2, language_model_func(tokenize(p2))))"
   ]
  },
  {
   "cell_type": "code",
   "execution_count": 35,
   "metadata": {
    "collapsed": false
   },
   "outputs": [
    {
     "name": "stdout",
     "output_type": "stream",
     "text": [
      "前天晚上吃晚饭的时候 with probability 9.092159719916698e-33\n",
      "前天晚上吃早饭的时候 with probability 7.133266864828677e-34\n",
      "前天早上吃晚饭的时候 with probability 1.3373228296276825e-31\n",
      "前天早上吃早饭的时候 with probability 1.0491985317047941e-32\n"
     ]
    }
   ],
   "source": [
    "get_prob_prefromance(get_2_gram_string_prob, pairs)\n",
    "# P(晚|吃)>P(早|吃)\n",
    "# 所以pair1里第一句话对，第二句话错，而pair2相反"
   ]
  },
  {
   "cell_type": "markdown",
   "metadata": {
    "collapsed": true
   },
   "source": [
    "## A glimpse of Machine Learning"
   ]
  },
  {
   "cell_type": "code",
   "execution_count": 4,
   "metadata": {
    "collapsed": true
   },
   "outputs": [],
   "source": [
    "import pandas as pd\n",
    "import numpy as np\n",
    "import matplotlib.pyplot as plt\n",
    "import time"
   ]
  },
  {
   "cell_type": "code",
   "execution_count": 5,
   "metadata": {
    "collapsed": false
   },
   "outputs": [],
   "source": [
    "df=pd.read_csv(\"./data/titanic_train.csv\")"
   ]
  },
  {
   "cell_type": "code",
   "execution_count": 39,
   "metadata": {
    "collapsed": false
   },
   "outputs": [
    {
     "data": {
      "text/html": [
       "<div>\n",
       "<style scoped>\n",
       "    .dataframe tbody tr th:only-of-type {\n",
       "        vertical-align: middle;\n",
       "    }\n",
       "\n",
       "    .dataframe tbody tr th {\n",
       "        vertical-align: top;\n",
       "    }\n",
       "\n",
       "    .dataframe thead th {\n",
       "        text-align: right;\n",
       "    }\n",
       "</style>\n",
       "<table border=\"1\" class=\"dataframe\">\n",
       "  <thead>\n",
       "    <tr style=\"text-align: right;\">\n",
       "      <th></th>\n",
       "      <th>PassengerId</th>\n",
       "      <th>Survived</th>\n",
       "      <th>Pclass</th>\n",
       "      <th>Name</th>\n",
       "      <th>Sex</th>\n",
       "      <th>Age</th>\n",
       "      <th>SibSp</th>\n",
       "      <th>Parch</th>\n",
       "      <th>Ticket</th>\n",
       "      <th>Fare</th>\n",
       "      <th>Cabin</th>\n",
       "      <th>Embarked</th>\n",
       "    </tr>\n",
       "  </thead>\n",
       "  <tbody>\n",
       "    <tr>\n",
       "      <th>0</th>\n",
       "      <td>1</td>\n",
       "      <td>0</td>\n",
       "      <td>3</td>\n",
       "      <td>Braund, Mr. Owen Harris</td>\n",
       "      <td>male</td>\n",
       "      <td>22.0</td>\n",
       "      <td>1</td>\n",
       "      <td>0</td>\n",
       "      <td>A/5 21171</td>\n",
       "      <td>7.2500</td>\n",
       "      <td>NaN</td>\n",
       "      <td>S</td>\n",
       "    </tr>\n",
       "    <tr>\n",
       "      <th>1</th>\n",
       "      <td>2</td>\n",
       "      <td>1</td>\n",
       "      <td>1</td>\n",
       "      <td>Cumings, Mrs. John Bradley (Florence Briggs Th...</td>\n",
       "      <td>female</td>\n",
       "      <td>38.0</td>\n",
       "      <td>1</td>\n",
       "      <td>0</td>\n",
       "      <td>PC 17599</td>\n",
       "      <td>71.2833</td>\n",
       "      <td>C85</td>\n",
       "      <td>C</td>\n",
       "    </tr>\n",
       "    <tr>\n",
       "      <th>2</th>\n",
       "      <td>3</td>\n",
       "      <td>1</td>\n",
       "      <td>3</td>\n",
       "      <td>Heikkinen, Miss. Laina</td>\n",
       "      <td>female</td>\n",
       "      <td>26.0</td>\n",
       "      <td>0</td>\n",
       "      <td>0</td>\n",
       "      <td>STON/O2. 3101282</td>\n",
       "      <td>7.9250</td>\n",
       "      <td>NaN</td>\n",
       "      <td>S</td>\n",
       "    </tr>\n",
       "    <tr>\n",
       "      <th>3</th>\n",
       "      <td>4</td>\n",
       "      <td>1</td>\n",
       "      <td>1</td>\n",
       "      <td>Futrelle, Mrs. Jacques Heath (Lily May Peel)</td>\n",
       "      <td>female</td>\n",
       "      <td>35.0</td>\n",
       "      <td>1</td>\n",
       "      <td>0</td>\n",
       "      <td>113803</td>\n",
       "      <td>53.1000</td>\n",
       "      <td>C123</td>\n",
       "      <td>S</td>\n",
       "    </tr>\n",
       "    <tr>\n",
       "      <th>4</th>\n",
       "      <td>5</td>\n",
       "      <td>0</td>\n",
       "      <td>3</td>\n",
       "      <td>Allen, Mr. William Henry</td>\n",
       "      <td>male</td>\n",
       "      <td>35.0</td>\n",
       "      <td>0</td>\n",
       "      <td>0</td>\n",
       "      <td>373450</td>\n",
       "      <td>8.0500</td>\n",
       "      <td>NaN</td>\n",
       "      <td>S</td>\n",
       "    </tr>\n",
       "  </tbody>\n",
       "</table>\n",
       "</div>"
      ],
      "text/plain": [
       "   PassengerId  Survived  Pclass  \\\n",
       "0            1         0       3   \n",
       "1            2         1       1   \n",
       "2            3         1       3   \n",
       "3            4         1       1   \n",
       "4            5         0       3   \n",
       "\n",
       "                                                Name     Sex   Age  SibSp  \\\n",
       "0                            Braund, Mr. Owen Harris    male  22.0      1   \n",
       "1  Cumings, Mrs. John Bradley (Florence Briggs Th...  female  38.0      1   \n",
       "2                             Heikkinen, Miss. Laina  female  26.0      0   \n",
       "3       Futrelle, Mrs. Jacques Heath (Lily May Peel)  female  35.0      1   \n",
       "4                           Allen, Mr. William Henry    male  35.0      0   \n",
       "\n",
       "   Parch            Ticket     Fare Cabin Embarked  \n",
       "0      0         A/5 21171   7.2500   NaN        S  \n",
       "1      0          PC 17599  71.2833   C85        C  \n",
       "2      0  STON/O2. 3101282   7.9250   NaN        S  \n",
       "3      0            113803  53.1000  C123        S  \n",
       "4      0            373450   8.0500   NaN        S  "
      ]
     },
     "execution_count": 39,
     "metadata": {},
     "output_type": "execute_result"
    }
   ],
   "source": [
    "df.head()"
   ]
  },
  {
   "cell_type": "code",
   "execution_count": 6,
   "metadata": {
    "collapsed": false
   },
   "outputs": [],
   "source": [
    "df=df.dropna()"
   ]
  },
  {
   "cell_type": "code",
   "execution_count": 7,
   "metadata": {
    "collapsed": false
   },
   "outputs": [],
   "source": [
    "af=df[['Age','Fare']]"
   ]
  },
  {
   "cell_type": "code",
   "execution_count": 8,
   "metadata": {
    "collapsed": false
   },
   "outputs": [],
   "source": [
    "age_fare=af[(af['Age']>22) & (af['Fare']>130) & (af['Fare']<400)]"
   ]
  },
  {
   "cell_type": "code",
   "execution_count": 9,
   "metadata": {
    "collapsed": false
   },
   "outputs": [
    {
     "data": {
      "text/html": [
       "<div>\n",
       "<style scoped>\n",
       "    .dataframe tbody tr th:only-of-type {\n",
       "        vertical-align: middle;\n",
       "    }\n",
       "\n",
       "    .dataframe tbody tr th {\n",
       "        vertical-align: top;\n",
       "    }\n",
       "\n",
       "    .dataframe thead th {\n",
       "        text-align: right;\n",
       "    }\n",
       "</style>\n",
       "<table border=\"1\" class=\"dataframe\">\n",
       "  <thead>\n",
       "    <tr style=\"text-align: right;\">\n",
       "      <th></th>\n",
       "      <th>Age</th>\n",
       "      <th>Fare</th>\n",
       "    </tr>\n",
       "  </thead>\n",
       "  <tbody>\n",
       "    <tr>\n",
       "      <th>88</th>\n",
       "      <td>23.0</td>\n",
       "      <td>263.0000</td>\n",
       "    </tr>\n",
       "    <tr>\n",
       "      <th>118</th>\n",
       "      <td>24.0</td>\n",
       "      <td>247.5208</td>\n",
       "    </tr>\n",
       "    <tr>\n",
       "      <th>195</th>\n",
       "      <td>58.0</td>\n",
       "      <td>146.5208</td>\n",
       "    </tr>\n",
       "    <tr>\n",
       "      <th>268</th>\n",
       "      <td>58.0</td>\n",
       "      <td>153.4625</td>\n",
       "    </tr>\n",
       "    <tr>\n",
       "      <th>269</th>\n",
       "      <td>35.0</td>\n",
       "      <td>135.6333</td>\n",
       "    </tr>\n",
       "  </tbody>\n",
       "</table>\n",
       "</div>"
      ],
      "text/plain": [
       "      Age      Fare\n",
       "88   23.0  263.0000\n",
       "118  24.0  247.5208\n",
       "195  58.0  146.5208\n",
       "268  58.0  153.4625\n",
       "269  35.0  135.6333"
      ]
     },
     "execution_count": 9,
     "metadata": {},
     "output_type": "execute_result"
    }
   ],
   "source": [
    "age_fare.head()"
   ]
  },
  {
   "cell_type": "code",
   "execution_count": 27,
   "metadata": {
    "collapsed": true
   },
   "outputs": [],
   "source": [
    "def model(x,a,b):\n",
    "    return a*x+b\n",
    "def loss(yt,yh):\n",
    "    return np.mean(np.abs(yt-yh))"
   ]
  },
  {
   "cell_type": "code",
   "execution_count": 34,
   "metadata": {
    "collapsed": false
   },
   "outputs": [],
   "source": [
    "a=1\n",
    "b=0\n",
    "eps=20\n",
    "batch=0\n",
    "learning_rate=1e-2\n",
    "min_loss=float('inf')\n",
    "directions=[(1,1),(1,-1),(-1,-1),(-1,1)]"
   ]
  },
  {
   "cell_type": "code",
   "execution_count": 35,
   "metadata": {
    "collapsed": false
   },
   "outputs": [],
   "source": [
    "age=np.array(age_fare['Age'].tolist())\n",
    "fare=np.array(age_fare['Fare'].tolist())\n",
    "yhat=np.array([model(x,a,b) for x in age])"
   ]
  },
  {
   "cell_type": "code",
   "execution_count": 36,
   "metadata": {
    "collapsed": false
   },
   "outputs": [
    {
     "name": "stdout",
     "output_type": "stream",
     "text": [
      "batch 0/ 10000 fare = 1 * age + 0, with loss: 211.4426052535\n",
      "batch 100/ 10000 fare = 4.007678775028056 * age + -0.41909220102805544, with loss: 91.142869113043\n",
      "batch 200/ 10000 fare = 4.007678775028056 * age + -0.41909220102805544, with loss: 51.07743323278565\n",
      "batch 300/ 10000 fare = 4.007678775028056 * age + -0.41909220102805544, with loss: 84.03182124123673\n",
      "batch 400/ 10000 fare = 4.007678775028056 * age + -0.41909220102805544, with loss: 102.43511458400594\n",
      "batch 500/ 10000 fare = 4.007678775028056 * age + -0.41909220102805544, with loss: 36.17312794012868\n",
      "batch 600/ 10000 fare = 4.007678775028056 * age + -0.41909220102805544, with loss: 72.02366737918952\n",
      "batch 700/ 10000 fare = 4.007678775028056 * age + -0.41909220102805544, with loss: 71.18161884592693\n",
      "batch 800/ 10000 fare = 4.007678775028056 * age + -0.41909220102805544, with loss: 53.16320083194232\n",
      "batch 900/ 10000 fare = 3.7686722759055935 * age + -0.6580987001505183, with loss: 41.842710489735644\n",
      "batch 1000/ 10000 fare = 3.7686722759055935 * age + -0.6580987001505183, with loss: 36.59485195639496\n",
      "batch 1100/ 10000 fare = 3.9576282504109406 * age + -0.8470546746558655, with loss: 78.2718318079136\n",
      "batch 1200/ 10000 fare = 3.9576282504109406 * age + -0.8470546746558655, with loss: 33.614385981531505\n",
      "batch 1300/ 10000 fare = 3.9576282504109406 * age + -0.8470546746558655, with loss: 35.29024007206915\n",
      "batch 1400/ 10000 fare = 3.9576282504109406 * age + -0.8470546746558655, with loss: 53.35883949362706\n",
      "batch 1500/ 10000 fare = 3.9576282504109406 * age + -0.8470546746558655, with loss: 68.36038953228487\n",
      "batch 1600/ 10000 fare = 3.9576282504109406 * age + -0.8470546746558655, with loss: 54.85010219779498\n",
      "batch 1700/ 10000 fare = 3.9576282504109406 * age + -0.8470546746558655, with loss: 98.05525528310017\n",
      "batch 1800/ 10000 fare = 3.9576282504109406 * age + -0.8470546746558655, with loss: 58.73565725140965\n",
      "batch 1900/ 10000 fare = 3.9576282504109406 * age + -0.8470546746558655, with loss: 16.95620792176883\n",
      "batch 2000/ 10000 fare = 4.124853198676565 * age + -1.01427962292149, with loss: 32.896923665557516\n",
      "batch 2100/ 10000 fare = 4.124853198676565 * age + -1.01427962292149, with loss: 71.5256721336639\n",
      "batch 2200/ 10000 fare = 4.124853198676565 * age + -1.01427962292149, with loss: 70.60648719199853\n",
      "batch 2300/ 10000 fare = 4.124853198676565 * age + -1.01427962292149, with loss: 55.49978640941443\n",
      "batch 2400/ 10000 fare = 4.124853198676565 * age + -1.01427962292149, with loss: 77.55710687086587\n",
      "batch 2500/ 10000 fare = 4.124853198676565 * age + -1.01427962292149, with loss: 82.26866626067286\n",
      "batch 2600/ 10000 fare = 4.124853198676565 * age + -1.01427962292149, with loss: 56.7948646093091\n",
      "batch 2700/ 10000 fare = 4.124853198676565 * age + -1.01427962292149, with loss: 68.12382269093595\n",
      "batch 2800/ 10000 fare = 4.124853198676565 * age + -1.01427962292149, with loss: 95.16612804955456\n",
      "batch 2900/ 10000 fare = 4.124853198676565 * age + -1.01427962292149, with loss: 57.70841172633568\n",
      "batch 3000/ 10000 fare = 4.124853198676565 * age + -1.01427962292149, with loss: 49.693153826724995\n",
      "batch 3100/ 10000 fare = 4.124853198676565 * age + -1.01427962292149, with loss: 48.720804254901864\n",
      "batch 3200/ 10000 fare = 4.124853198676565 * age + -1.01427962292149, with loss: 87.19902900452975\n",
      "batch 3300/ 10000 fare = 3.9749956856733717 * age + -0.864422109918297, with loss: 52.60244682286701\n",
      "batch 3400/ 10000 fare = 3.9749956856733717 * age + -0.864422109918297, with loss: 40.59930702476551\n",
      "batch 3500/ 10000 fare = 3.9749956856733717 * age + -0.864422109918297, with loss: 50.78517073707567\n",
      "batch 3600/ 10000 fare = 3.9749956856733717 * age + -0.864422109918297, with loss: 64.46751839629187\n",
      "batch 3700/ 10000 fare = 3.9749956856733717 * age + -0.864422109918297, with loss: 47.144056623677955\n",
      "batch 3800/ 10000 fare = 3.9749956856733717 * age + -0.864422109918297, with loss: 38.2548998005156\n",
      "batch 3900/ 10000 fare = 3.9749956856733717 * age + -0.864422109918297, with loss: 80.15075729235409\n",
      "batch 4000/ 10000 fare = 3.9749956856733717 * age + -0.864422109918297, with loss: 54.54022762622346\n",
      "batch 4100/ 10000 fare = 3.9749956856733717 * age + -0.864422109918297, with loss: 37.61467695695666\n",
      "batch 4200/ 10000 fare = 3.9749956856733717 * age + -0.864422109918297, with loss: 70.17170060298602\n",
      "batch 4300/ 10000 fare = 3.9749956856733717 * age + -0.864422109918297, with loss: 56.841327492133836\n",
      "batch 4400/ 10000 fare = 3.9749956856733717 * age + -0.864422109918297, with loss: 43.81797692396393\n",
      "batch 4500/ 10000 fare = 3.9749956856733717 * age + -0.864422109918297, with loss: 52.33053802760636\n",
      "batch 4600/ 10000 fare = 3.9749956856733717 * age + -0.864422109918297, with loss: 84.56233401471488\n",
      "batch 4700/ 10000 fare = 3.9749956856733717 * age + -0.864422109918297, with loss: 56.00305391361796\n",
      "batch 4800/ 10000 fare = 4.1230626087834645 * age + -0.7163551868082046, with loss: 47.97075576707908\n",
      "batch 4900/ 10000 fare = 4.1230626087834645 * age + -0.7163551868082046, with loss: 51.266305847566194\n",
      "batch 5000/ 10000 fare = 4.1230626087834645 * age + -0.7163551868082046, with loss: 106.65146516189353\n",
      "batch 5100/ 10000 fare = 4.1230626087834645 * age + -0.7163551868082046, with loss: 50.10792268769944\n",
      "batch 5200/ 10000 fare = 4.1230626087834645 * age + -0.7163551868082046, with loss: 51.37575594771401\n",
      "batch 5300/ 10000 fare = 4.1230626087834645 * age + -0.7163551868082046, with loss: 58.98630315986675\n",
      "batch 5400/ 10000 fare = 4.1230626087834645 * age + -0.7163551868082046, with loss: 41.928248402555276\n",
      "batch 5500/ 10000 fare = 4.1230626087834645 * age + -0.7163551868082046, with loss: 35.717162927008566\n",
      "batch 5600/ 10000 fare = 4.1230626087834645 * age + -0.7163551868082046, with loss: 77.98385204104025\n",
      "batch 5700/ 10000 fare = 4.1230626087834645 * age + -0.7163551868082046, with loss: 38.85485302070545\n",
      "batch 5800/ 10000 fare = 4.1230626087834645 * age + -0.7163551868082046, with loss: 75.42580864186439\n",
      "batch 5900/ 10000 fare = 4.1230626087834645 * age + -0.7163551868082046, with loss: 63.507741895428026\n",
      "batch 6000/ 10000 fare = 4.1230626087834645 * age + -0.7163551868082046, with loss: 85.48169717713004\n",
      "batch 6100/ 10000 fare = 4.1230626087834645 * age + -0.7163551868082046, with loss: 44.28715292700856\n",
      "batch 6200/ 10000 fare = 4.1230626087834645 * age + -0.7163551868082046, with loss: 51.05501502273222\n",
      "batch 6300/ 10000 fare = 4.1230626087834645 * age + -0.7163551868082046, with loss: 64.16922818259894\n",
      "batch 6400/ 10000 fare = 4.1230626087834645 * age + -0.7163551868082046, with loss: 33.25857897487039\n",
      "batch 6500/ 10000 fare = 4.1230626087834645 * age + -0.7163551868082046, with loss: 29.78475149084598\n",
      "batch 6600/ 10000 fare = 4.1230626087834645 * age + -0.7163551868082046, with loss: 63.76952735131404\n",
      "batch 6700/ 10000 fare = 4.034584836804751 * age + -0.6278774148294913, with loss: 51.95687312582898\n",
      "batch 6800/ 10000 fare = 4.034584836804751 * age + -0.6278774148294913, with loss: 64.6355912667462\n",
      "batch 6900/ 10000 fare = 4.034584836804751 * age + -0.6278774148294913, with loss: 88.26676470751383\n",
      "batch 7000/ 10000 fare = 4.034584836804751 * age + -0.6278774148294913, with loss: 63.21681368810471\n",
      "batch 7100/ 10000 fare = 4.034584836804751 * age + -0.6278774148294913, with loss: 67.93210462506815\n",
      "batch 7200/ 10000 fare = 4.034584836804751 * age + -0.6278774148294913, with loss: 65.7419827960462\n",
      "batch 7300/ 10000 fare = 4.034584836804751 * age + -0.6278774148294913, with loss: 69.4014153971402\n",
      "batch 7400/ 10000 fare = 4.034584836804751 * age + -0.6278774148294913, with loss: 65.91965421283969\n",
      "batch 7500/ 10000 fare = 4.034584836804751 * age + -0.6278774148294913, with loss: 53.6420947751154\n",
      "batch 7600/ 10000 fare = 4.034584836804751 * age + -0.6278774148294913, with loss: 68.11957704642664\n",
      "batch 7700/ 10000 fare = 4.034584836804751 * age + -0.6278774148294913, with loss: 72.62050762354647\n",
      "batch 7800/ 10000 fare = 4.034584836804751 * age + -0.6278774148294913, with loss: 62.84625182154203\n",
      "batch 7900/ 10000 fare = 4.034584836804751 * age + -0.6278774148294913, with loss: 68.59038613178718\n",
      "batch 8000/ 10000 fare = 4.034584836804751 * age + -0.6278774148294913, with loss: 56.30699790842427\n",
      "batch 8100/ 10000 fare = 4.034584836804751 * age + -0.6278774148294913, with loss: 66.14576916032637\n",
      "batch 8200/ 10000 fare = 4.034584836804751 * age + -0.6278774148294913, with loss: 47.806719774986924\n",
      "batch 8300/ 10000 fare = 4.034584836804751 * age + -0.6278774148294913, with loss: 72.51517835071357\n",
      "batch 8400/ 10000 fare = 4.034584836804751 * age + -0.6278774148294913, with loss: 58.97769604186161\n",
      "batch 8500/ 10000 fare = 4.034584836804751 * age + -0.6278774148294913, with loss: 77.2238565665966\n",
      "batch 8600/ 10000 fare = 4.034584836804751 * age + -0.6278774148294913, with loss: 72.55355362050312\n",
      "batch 8700/ 10000 fare = 4.034584836804751 * age + -0.6278774148294913, with loss: 49.672109887493455\n",
      "batch 8800/ 10000 fare = 4.034584836804751 * age + -0.6278774148294913, with loss: 45.4382768514744\n",
      "batch 8900/ 10000 fare = 4.034584836804751 * age + -0.6278774148294913, with loss: 94.27725111669892\n",
      "batch 9000/ 10000 fare = 4.034584836804751 * age + -0.6278774148294913, with loss: 51.3047384632201\n",
      "batch 9100/ 10000 fare = 4.034584836804751 * age + -0.6278774148294913, with loss: 74.40016384551619\n",
      "batch 9200/ 10000 fare = 4.034584836804751 * age + -0.6278774148294913, with loss: 43.38086988749346\n",
      "batch 9300/ 10000 fare = 4.034584836804751 * age + -0.6278774148294913, with loss: 59.902245547187476\n",
      "batch 9400/ 10000 fare = 4.034584836804751 * age + -0.6278774148294913, with loss: 82.13936407027231\n",
      "batch 9500/ 10000 fare = 4.034584836804751 * age + -0.6278774148294913, with loss: 71.96116790842426\n",
      "batch 9600/ 10000 fare = 4.034584836804751 * age + -0.6278774148294913, with loss: 60.413758905509404\n",
      "batch 9700/ 10000 fare = 4.034584836804751 * age + -0.6278774148294913, with loss: 63.87577666425902\n",
      "batch 9800/ 10000 fare = 4.034584836804751 * age + -0.6278774148294913, with loss: 68.87768543468093\n",
      "batch 9900/ 10000 fare = 4.034584836804751 * age + -0.6278774148294913, with loss: 44.70611616184803\n",
      "batch 10000/ 10000 fare = 4.034584836804751 * age + -0.6278774148294913, with loss: 60.544413050863184\n"
     ]
    }
   ],
   "source": [
    "while True:\n",
    "    if loss(yt=fare,yh=yhat)<eps:break\n",
    "    indices = np.random.choice(range(len(age)), size=10)\n",
    "    sample_x = age[indices]\n",
    "    sample_y = fare[indices]\n",
    "    new_a,new_b=a,b\n",
    "    for d in directions:\n",
    "        da,db=d\n",
    "        if min_loss!=float('inf'):\n",
    "            atmp=a+da*min_loss*learning_rate\n",
    "            btmp=b+db*min_loss*learning_rate\n",
    "        else:\n",
    "            atmp=a+da\n",
    "            btmp=b+db\n",
    "        ytmp=np.array([model(x,atmp,btmp) for x in sample_x])\n",
    "        loss_tmp=loss(sample_y,ytmp)\n",
    "      \n",
    "        if loss_tmp<min_loss:\n",
    "            min_loss=loss_tmp\n",
    "            new_a,new_b=atmp,btmp\n",
    "    total=10000\n",
    "    if batch%100==0:\n",
    "        print('batch {}/ {} fare = {} * age + {}, with loss: {}'.format(batch, total, a, b, loss_tmp))\n",
    "    if batch>total:break\n",
    "    batch+=1\n",
    "    a,b=new_a,new_b"
   ]
  },
  {
   "cell_type": "code",
   "execution_count": 37,
   "metadata": {
    "collapsed": false
   },
   "outputs": [
    {
     "data": {
      "image/png": "[encoded data removed]",
      "text/plain": [
       "<Figure size 432x288 with 1 Axes>"
      ]
     },
     "metadata": {},
     "output_type": "display_data"
    }
   ],
   "source": [
    "plt.scatter(age, fare)\n",
    "plt.plot(age, [model(x, a, b) for x in age])\n",
    "plt.show()"
   ]
  },
  {
   "cell_type": "code",
   "execution_count": null,
   "metadata": {
    "collapsed": true
   },
   "outputs": [],
   "source": []
  }
 ],
 "metadata": {
  "anaconda-cloud": {},
  "kernelspec": {
   "display_name": "Python [default]",
   "language": "python",
   "name": "python3"
  },
  "language_info": {
   "codemirror_mode": {
    "name": "ipython",
    "version": 3
   },
   "file_extension": ".py",
   "mimetype": "text/x-python",
   "name": "python",
   "nbconvert_exporter": "python",
   "pygments_lexer": "ipython3",
   "version": "3.5.2"
  }
 },
 "nbformat": 4,
 "nbformat_minor": 2
}
