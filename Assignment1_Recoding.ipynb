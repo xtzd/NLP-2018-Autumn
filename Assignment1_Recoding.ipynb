{
 "cells": [
  {
   "cell_type": "markdown",
   "metadata": {},
   "source": [
    "# 1. Rule Based"
   ]
  },
  {
   "cell_type": "code",
   "execution_count": 1,
   "metadata": {
    "collapsed": true
   },
   "outputs": [],
   "source": [
    "grammar = \"\"\"\n",
    "sentence= adj noun adv verb noun2\n",
    "adj= adj_single auxj\n",
    "adj_single= 漂亮|好看|蓝色\n",
    "auxj= 的\n",
    "adv= adv_single auxv\n",
    "adv_single= 安静|淡定\n",
    "auxv= 地\n",
    "verb= 看着|坐着\n",
    "noun=猫|狗\n",
    "noun2= 桌子|皮球\n",
    "\"\"\""
   ]
  },
  {
   "cell_type": "code",
   "execution_count": 2,
   "metadata": {
    "collapsed": true
   },
   "outputs": [],
   "source": [
    "\n",
    "def build_grammar(grammar_str,split=\"=\"):\n",
    "    grammar_pattern={}\n",
    "    for line in grammar_str.split(\"\\n\"):\n",
    "        print(line, not line)\n",
    "#         None, False,空字符串\"\", 0, 空列表[], 空字典{}, 空元组()都相当于False\n",
    "        if not line: continue\n",
    "        stmt,exp=line.split(split)\n",
    "        grammar_pattern[stmt]=[e.split() for e in exp.split(\"|\")]\n",
    "    return grammar_pattern"
   ]
  },
  {
   "cell_type": "code",
   "execution_count": 3,
   "metadata": {
    "collapsed": false
   },
   "outputs": [
    {
     "name": "stdout",
     "output_type": "stream",
     "text": [
      " True\n",
      "sentence= adj noun adv verb noun2 False\n",
      "adj= adj_single auxj False\n",
      "adj_single= 漂亮|好看|蓝色 False\n",
      "auxj= 的 False\n",
      "adv= adv_single auxv False\n",
      "adv_single= 安静|淡定 False\n",
      "auxv= 地 False\n",
      "verb= 看着|坐着 False\n",
      "noun=猫|狗 False\n",
      "noun2= 桌子|皮球 False\n",
      " True\n"
     ]
    }
   ],
   "source": [
    "gp=build_grammar(grammar)"
   ]
  },
  {
   "cell_type": "code",
   "execution_count": 4,
   "metadata": {
    "collapsed": true
   },
   "outputs": [],
   "source": [
    "import random\n",
    "def generate(grammar_pattern,target):\n",
    "    if target not in grammar_pattern:\n",
    "        return target\n",
    "    else:\n",
    "        exp=random.choice(grammar_pattern[target])\n",
    "        tokens=[generate(grammar_pattern,e) for e in exp]\n",
    "    return ''.join([t for t in tokens])"
   ]
  },
  {
   "cell_type": "code",
   "execution_count": 5,
   "metadata": {
    "collapsed": false
   },
   "outputs": [
    {
     "data": {
      "text/plain": [
       "'漂亮的猫淡定地坐着皮球'"
      ]
     },
     "execution_count": 5,
     "metadata": {},
     "output_type": "execute_result"
    }
   ],
   "source": [
    "generate(gp,\"sentence\")"
   ]
  },
  {
   "cell_type": "markdown",
   "metadata": {},
   "source": [
    "# 2. Search Based"
   ]
  },
  {
   "cell_type": "markdown",
   "metadata": {},
   "source": [
    "## 2.1 BFS"
   ]
  },
  {
   "cell_type": "code",
   "execution_count": 17,
   "metadata": {
    "collapsed": false
   },
   "outputs": [],
   "source": [
    "\n",
    "D1='1'\n",
    "D2='2'\n",
    "D3='3'\n",
    "D4='4'\n",
    "D5='5'\n",
    "D6='6'\n",
    "D7='7'\n",
    "D8='8'\n",
    "D9='9'\n",
    "D10='10'\n",
    "D11='11'\n",
    "D12='12'\n",
    "\n",
    "graph={\n",
    "    D1: {D2,D7},\n",
    "    D2: {D3}, \n",
    "#     D3: {D4}, \n",
    "    D3: {D2,D4},\n",
    "#     D4: {D5,D10}, \n",
    "    D4: {D3,D5,D10},\n",
    "    D5: {D6}, \n",
    "    D6: {D5},\n",
    "    D7: {D8},\n",
    "#     D8: {D9}\n",
    "    D8: {D7,D9},\n",
    "#     D9: {D10}\n",
    "    D9: {D8,D10}, \n",
    "#     D10:{D4,D11}\n",
    "    D10:{D4,D9,D11}, \n",
    "    D11:{D12},\n",
    "    D12:{D11}\n",
    "}\n"
   ]
  },
  {
   "cell_type": "code",
   "execution_count": 7,
   "metadata": {
    "collapsed": false
   },
   "outputs": [],
   "source": [
    "%matplotlib inline"
   ]
  },
  {
   "cell_type": "code",
   "execution_count": 8,
   "metadata": {
    "collapsed": false
   },
   "outputs": [
    {
     "name": "stderr",
     "output_type": "stream",
     "text": [
      "C:\\Anaconda3\\lib\\site-packages\\networkx\\drawing\\nx_pylab.py:522: MatplotlibDeprecationWarning: The is_string_like function was deprecated in version 2.1.\n",
      "  if not cb.is_string_like(edge_color) \\\n",
      "C:\\Anaconda3\\lib\\site-packages\\networkx\\drawing\\nx_pylab.py:543: MatplotlibDeprecationWarning: The is_string_like function was deprecated in version 2.1.\n",
      "  if cb.is_string_like(edge_color) or len(edge_color) == 1:\n",
      "C:\\Anaconda3\\lib\\site-packages\\networkx\\drawing\\nx_pylab.py:724: MatplotlibDeprecationWarning: The is_string_like function was deprecated in version 2.1.\n",
      "  if not cb.is_string_like(label):\n"
     ]
    },
    {
     "data": {
      "image/png": "[encoded data removed]",
      "text/plain": [
       "<Figure size 432x288 with 1 Axes>"
      ]
     },
     "metadata": {},
     "output_type": "display_data"
    }
   ],
   "source": [
    "import networkx as nx\n",
    "graph_plot=nx.Graph(graph)\n",
    "nx.draw_networkx(graph_plot,arrows=True,with_Labels=True)"
   ]
  },
  {
   "cell_type": "code",
   "execution_count": 9,
   "metadata": {
    "collapsed": true
   },
   "outputs": [],
   "source": [
    "def search_bfs(graph):\n",
    "    visited=set()\n",
    "    to_visit=[D1]\n",
    "    while to_visit:\n",
    "        tmp=to_visit.pop(0)\n",
    "        if tmp in visited: \n",
    "            print(\"{} is visited\".format(tmp))\n",
    "            continue\n",
    "        else:\n",
    "            print(\"visiting:{}\".format(tmp))\n",
    "            visited.add(tmp)\n",
    "            to_visit+=graph[tmp]"
   ]
  },
  {
   "cell_type": "code",
   "execution_count": 10,
   "metadata": {
    "collapsed": false
   },
   "outputs": [
    {
     "name": "stdout",
     "output_type": "stream",
     "text": [
      "visiting:1\n",
      "visiting:2\n",
      "visiting:7\n",
      "visiting:3\n",
      "visiting:8\n",
      "visiting:4\n",
      "visiting:9\n",
      "visiting:10\n",
      "visiting:5\n",
      "10 is visited\n",
      "visiting:11\n",
      "4 is visited\n",
      "visiting:6\n",
      "visiting:12\n",
      "5 is visited\n",
      "11 is visited\n"
     ]
    }
   ],
   "source": [
    "search_bfs(graph)"
   ]
  },
  {
   "cell_type": "markdown",
   "metadata": {},
   "source": [
    "## 2.2 DFS"
   ]
  },
  {
   "cell_type": "code",
   "execution_count": 11,
   "metadata": {
    "collapsed": false
   },
   "outputs": [],
   "source": [
    "def search_bfs(graph):\n",
    "    visited=set()\n",
    "    to_visit=[D1]\n",
    "    while to_visit:\n",
    "        tmp=to_visit.pop(0)\n",
    "        if tmp in visited:\n",
    "            print(\"{} is visited\".format(tmp))\n",
    "            continue\n",
    "        else:\n",
    "            print(\"visiting:{}\".format(tmp))\n",
    "            visited.add(tmp)\n",
    "            to_visit=list(graph[tmp])+to_visit"
   ]
  },
  {
   "cell_type": "code",
   "execution_count": 12,
   "metadata": {
    "collapsed": false
   },
   "outputs": [
    {
     "name": "stdout",
     "output_type": "stream",
     "text": [
      "visiting:1\n",
      "visiting:2\n",
      "visiting:3\n",
      "visiting:4\n",
      "visiting:10\n",
      "visiting:11\n",
      "visiting:12\n",
      "11 is visited\n",
      "4 is visited\n",
      "visiting:5\n",
      "visiting:6\n",
      "5 is visited\n",
      "visiting:7\n",
      "visiting:8\n",
      "visiting:9\n",
      "10 is visited\n"
     ]
    }
   ],
   "source": [
    "search_bfs(graph)\n",
    "# uni-direction"
   ]
  },
  {
   "cell_type": "code",
   "execution_count": 18,
   "metadata": {
    "collapsed": false
   },
   "outputs": [
    {
     "name": "stdout",
     "output_type": "stream",
     "text": [
      "visiting:1\n",
      "visiting:2\n",
      "visiting:3\n",
      "2 is visited\n",
      "visiting:4\n",
      "3 is visited\n",
      "visiting:10\n",
      "visiting:9\n",
      "visiting:8\n",
      "9 is visited\n",
      "visiting:7\n",
      "8 is visited\n",
      "10 is visited\n",
      "visiting:11\n",
      "visiting:12\n",
      "11 is visited\n",
      "4 is visited\n",
      "visiting:5\n",
      "visiting:6\n",
      "5 is visited\n",
      "7 is visited\n"
     ]
    }
   ],
   "source": [
    "search_bfs(graph)\n",
    "# bi-direction"
   ]
  },
  {
   "cell_type": "markdown",
   "metadata": {},
   "source": [
    "## 2.3 Mapping"
   ]
  },
  {
   "cell_type": "code",
   "execution_count": 19,
   "metadata": {
    "collapsed": true
   },
   "outputs": [],
   "source": [
    "PEK='beijing'\n",
    "PVG='shanghai'\n",
    "CSX='changsha'\n",
    "XMN='xiamen'\n",
    "\n",
    "TAO='qingdao'\n",
    "HAK='haikou'\n",
    "SYD='sydney'"
   ]
  },
  {
   "cell_type": "code",
   "execution_count": 20,
   "metadata": {
    "collapsed": true
   },
   "outputs": [],
   "source": [
    "import matplotlib.pyplot as plt\n",
    "import networkx as nx\n",
    "G=nx.Graph()"
   ]
  },
  {
   "cell_type": "code",
   "execution_count": 21,
   "metadata": {
    "collapsed": false
   },
   "outputs": [],
   "source": [
    "G.add_edge(PEK,SYD)\n",
    "G.add_edge(PEK,PVG)\n",
    "G.add_edge(PVG,SYD)\n",
    "G.add_edge(PEK,TAO)\n",
    "G.add_edge(TAO,PVG)\n",
    "G.add_edge(PEK,HAK)\n",
    "G.add_edge(PEK,CSX)\n",
    "G.add_edge(CSX,XMN)\n",
    "G.add_edge(XMN,SYD)"
   ]
  },
  {
   "cell_type": "code",
   "execution_count": 22,
   "metadata": {
    "collapsed": false
   },
   "outputs": [
    {
     "name": "stderr",
     "output_type": "stream",
     "text": [
      "C:\\Anaconda3\\lib\\site-packages\\networkx\\drawing\\nx_pylab.py:522: MatplotlibDeprecationWarning: The is_string_like function was deprecated in version 2.1.\n",
      "  if not cb.is_string_like(edge_color) \\\n",
      "C:\\Anaconda3\\lib\\site-packages\\networkx\\drawing\\nx_pylab.py:543: MatplotlibDeprecationWarning: The is_string_like function was deprecated in version 2.1.\n",
      "  if cb.is_string_like(edge_color) or len(edge_color) == 1:\n",
      "C:\\Anaconda3\\lib\\site-packages\\networkx\\drawing\\nx_pylab.py:724: MatplotlibDeprecationWarning: The is_string_like function was deprecated in version 2.1.\n",
      "  if not cb.is_string_like(label):\n"
     ]
    },
    {
     "data": {
      "image/png": "[encoded data removed]",
      "text/plain": [
       "<Figure size 432x288 with 1 Axes>"
      ]
     },
     "metadata": {},
     "output_type": "display_data"
    }
   ],
   "source": [
    "pos = nx.spring_layout(G)\n",
    "nx.draw_networkx(G,pos,with_Labels=True)\n",
    "plt.show()"
   ]
  },
  {
   "cell_type": "code",
   "execution_count": 23,
   "metadata": {
    "collapsed": false
   },
   "outputs": [],
   "source": [
    "def search_route(graph,start,destination):\n",
    "    routes=[[start]]\n",
    "    visited=set()\n",
    "    visited.add(destination)\n",
    "    output=[]\n",
    "    while routes:\n",
    "        route=routes.pop(0)\n",
    "        last_stop=route[-1]\n",
    "        if last_stop==destination:\n",
    "            output.append(route)\n",
    "        if last_stop in visited:\n",
    "            continue    \n",
    "        else:\n",
    "            cities=nx.neighbors(G,last_stop)\n",
    "            for city in cities:\n",
    "             \n",
    "                new_route=route+[city]\n",
    "                routes.append(new_route)\n",
    "\n",
    "        visited.add(last_stop)\n",
    "\n",
    "\n",
    "    return output\n"
   ]
  },
  {
   "cell_type": "code",
   "execution_count": 24,
   "metadata": {
    "collapsed": false
   },
   "outputs": [
    {
     "data": {
      "text/plain": [
       "[['beijing', 'sydney'],\n",
       " ['beijing', 'shanghai', 'sydney'],\n",
       " ['beijing', 'changsha', 'xiamen', 'sydney']]"
      ]
     },
     "execution_count": 24,
     "metadata": {},
     "output_type": "execute_result"
    }
   ],
   "source": [
    "search_route(G,PEK,SYD)"
   ]
  },
  {
   "cell_type": "code",
   "execution_count": null,
   "metadata": {
    "collapsed": true
   },
   "outputs": [],
   "source": []
  }
 ],
 "metadata": {
  "anaconda-cloud": {},
  "kernelspec": {
   "display_name": "Python [default]",
   "language": "python",
   "name": "python3"
  },
  "language_info": {
   "codemirror_mode": {
    "name": "ipython",
    "version": 3
   },
   "file_extension": ".py",
   "mimetype": "text/x-python",
   "name": "python",
   "nbconvert_exporter": "python",
   "pygments_lexer": "ipython3",
   "version": "3.5.2"
  }
 },
 "nbformat": 4,
 "nbformat_minor": 2
}
