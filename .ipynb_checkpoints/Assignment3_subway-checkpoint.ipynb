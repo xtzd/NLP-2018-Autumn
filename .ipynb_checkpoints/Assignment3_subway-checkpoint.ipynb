{
 "cells": [
  {
   "cell_type": "code",
   "execution_count": 1,
   "metadata": {
    "collapsed": false
   },
   "outputs": [],
   "source": [
    "import requests,re\n",
    "import networkx as nx"
   ]
  },
  {
   "cell_type": "code",
   "execution_count": 2,
   "metadata": {
    "collapsed": true
   },
   "outputs": [],
   "source": [
    "lines=[\"北京地铁1号线\",\"北京地铁2号线\",\"北京地铁4号线\",\"北京地铁5号线\",\"北京地铁6号线\",\"北京地铁7号线\",\"北京地铁8号线\",\n",
    "       \"北京地铁9号线\",\"北京地铁10号线\",\"北京地铁13号线\",\"北京地铁14号线\",\"北京地铁15号线\",\"北京地铁16号线\",\n",
    "       \"北京地铁八通线\",\"北京地铁昌平线\",\"北京地铁房山线\",\"北京地铁亦庄线\"]"
   ]
  },
  {
   "cell_type": "code",
   "execution_count": 3,
   "metadata": {
    "collapsed": false
   },
   "outputs": [],
   "source": [
    "headers = {\"User-Agent\" : \"User-Agent:Mozilla/5.0 (compatible; MSIE 9.0; Windows NT 6.1; Trident/5.0;\"}\n",
    "web_text=''\n",
    "for line in lines:\n",
    "    web_text+=requests.get(\"https://baike.baidu.com/item/\"+line,headers=headers).content.decode('utf-8')"
   ]
  },
  {
   "cell_type": "code",
   "execution_count": 4,
   "metadata": {
    "collapsed": false
   },
   "outputs": [],
   "source": [
    "pattern='<.*?>'\n",
    "text=re.sub(pattern,'',web_text)\n",
    "t=re.sub(\"\\r\\n\",\"\",text)"
   ]
  },
  {
   "cell_type": "code",
   "execution_count": 5,
   "metadata": {
    "collapsed": false
   },
   "outputs": [],
   "source": [
    "dist1=re.findall(\"\\d+号线相邻.*上行\",t)"
   ]
  },
  {
   "cell_type": "code",
   "execution_count": 6,
   "metadata": {
    "collapsed": true
   },
   "outputs": [],
   "source": [
    "dist2=re.findall(\"14号线.*上行\",t)\n",
    "# line14"
   ]
  },
  {
   "cell_type": "code",
   "execution_count": 7,
   "metadata": {
    "collapsed": false
   },
   "outputs": [],
   "source": [
    "dist2=dist2[0]"
   ]
  },
  {
   "cell_type": "code",
   "execution_count": 8,
   "metadata": {
    "collapsed": false
   },
   "outputs": [],
   "source": [
    "dist2=[re.sub(\"14号线（东段）相邻站间距信息统计表起始/终到车站区间距离（米）方向\",\"\",dist2)]"
   ]
  },
  {
   "cell_type": "code",
   "execution_count": 9,
   "metadata": {
    "collapsed": false
   },
   "outputs": [],
   "source": [
    "dist1.extend(dist2)"
   ]
  },
  {
   "cell_type": "code",
   "execution_count": 10,
   "metadata": {
    "collapsed": true
   },
   "outputs": [],
   "source": [
    "dist3=re.findall(\"[\\u4e00-\\u9fa5][\\u4e00-\\u9fa5]线相邻.*上行\",t)\n",
    "# line chinese charater"
   ]
  },
  {
   "cell_type": "code",
   "execution_count": 11,
   "metadata": {
    "collapsed": true
   },
   "outputs": [],
   "source": [
    "dist1.extend(dist3)"
   ]
  },
  {
   "cell_type": "code",
   "execution_count": 13,
   "metadata": {
    "collapsed": false
   },
   "outputs": [],
   "source": [
    "# dist4=re.findall(\"站区间距离（km）.+\",t)\n",
    "# line16,ignore"
   ]
  },
  {
   "cell_type": "code",
   "execution_count": 14,
   "metadata": {
    "collapsed": false
   },
   "outputs": [
    {
     "data": {
      "text/plain": [
       "['站区间距离（km）西苑～农大南路3农大南路~马连洼1.6马连洼～西北旺2.1西北旺～永丰南2永丰南～永丰1.3永丰～屯佃2屯佃～稻香湖路2.5稻香湖路～温阳路2温阳路～北安河2.6']"
      ]
     },
     "execution_count": 14,
     "metadata": {},
     "output_type": "execute_result"
    }
   ],
   "source": [
    "# dist4"
   ]
  },
  {
   "cell_type": "code",
   "execution_count": 15,
   "metadata": {
    "collapsed": false
   },
   "outputs": [],
   "source": [
    "# dist4=[re.sub(\"站区间距离（km）\",\"16号线相邻站间距信息统计表起始/终到车站区间距离方向\",dist4[0])]\n",
    "# dist4=[re.sub(\"～\",\"——\",dist4[0])]\n",
    "# dist4=[re.sub(\"~\",\"——\",dist4[0])]"
   ]
  },
  {
   "cell_type": "code",
   "execution_count": 16,
   "metadata": {
    "collapsed": false
   },
   "outputs": [
    {
     "data": {
      "text/plain": [
       "['16号线相邻站间距信息统计表起始/终到车站区间距离方向西苑——农大南路3农大南路——马连洼1.6马连洼——西北旺2.1西北旺——永丰南2永丰南——永丰1.3永丰——屯佃2屯佃——稻香湖路2.5稻香湖路——温阳路2温阳路——北安河2.6']"
      ]
     },
     "execution_count": 16,
     "metadata": {},
     "output_type": "execute_result"
    }
   ],
   "source": [
    "# dist4"
   ]
  },
  {
   "cell_type": "code",
   "execution_count": 17,
   "metadata": {
    "collapsed": true
   },
   "outputs": [],
   "source": [
    "# dist1.extend(dist4)"
   ]
  },
  {
   "cell_type": "code",
   "execution_count": 12,
   "metadata": {
    "collapsed": false
   },
   "outputs": [],
   "source": [
    "tmp=[]\n",
    "for d in dist1:\n",
    "    tmp.append(re.sub(\"上行/下行\",'向',d))"
   ]
  },
  {
   "cell_type": "code",
   "execution_count": 13,
   "metadata": {
    "collapsed": false
   },
   "outputs": [],
   "source": [
    "dist_list=[]\n",
    "for t in tmp:\n",
    "    ti=re.sub(\"向\",\"\\n\",t)\n",
    "    tj=re.sub(\"上行\",\"\",ti)\n",
    "    tk=re.sub(\"千米\",\"\",tj)\n",
    "    tf=re.sub(\"米\",\"\",tk)\n",
    "    dist_list.append(re.findall(\".*\",tf))"
   ]
  },
  {
   "cell_type": "code",
   "execution_count": 14,
   "metadata": {
    "collapsed": false
   },
   "outputs": [],
   "source": [
    "for dl in dist_list:\n",
    "    while '' in dl:\n",
    "        dl.remove('')"
   ]
  },
  {
   "cell_type": "code",
   "execution_count": 53,
   "metadata": {
    "collapsed": false
   },
   "outputs": [
    {
     "data": {
      "text/plain": [
       "[['1号线相邻站间距信息统计表起始/终到车站区间距离方',\n",
       "  '苹果园——古城2606',\n",
       "  '古城——八角游乐园1921',\n",
       "  '八角游乐园——八宝山1953',\n",
       "  '八宝山——玉泉路1479',\n",
       "  '玉泉路——五棵松1810',\n",
       "  '五棵松——万寿路1778',\n",
       "  '万寿路——公主坟1313',\n",
       "  '公主坟——军事博物馆1172',\n",
       "  '军事博物馆——木樨地1166',\n",
       "  '木樨地——南礼士路1291',\n",
       "  '南礼士路——复兴门424',\n",
       "  '复兴门——西单1590',\n",
       "  '西单——天安门西1217',\n",
       "  '天安门西——天安门东925',\n",
       "  '天安门东——王府井852',\n",
       "  '王府井——东单774',\n",
       "  '东单——建国门1230',\n",
       "  '建国门——永安里1377',\n",
       "  '永安里——国贸790',\n",
       "  '国贸——大望路1385',\n",
       "  '大望路——四惠1673',\n",
       "  '四惠——四惠东1714'],\n",
       " ['2号线相邻站间距信息统计表起始/终到车站区间距离方',\n",
       "  '西直门——车公庄909',\n",
       "  '车公庄——阜成门960',\n",
       "  '阜成门——复兴门1832',\n",
       "  '复兴门——长椿街1234',\n",
       "  '长椿街——宣武门929',\n",
       "  '宣武门——和平门851',\n",
       "  '和平门——前门1171',\n",
       "  '前门——崇文门1634',\n",
       "  '崇文门——北京站1023',\n",
       "  '北京站——建国门945',\n",
       "  '建国门——朝阳门1763',\n",
       "  '朝阳门——东四十条1027',\n",
       "  '东四十条——东直门824',\n",
       "  '东直门——雍和宫2228',\n",
       "  '雍和宫——安定门794',\n",
       "  '安定门——鼓楼大街1237',\n",
       "  '鼓楼大街——积水潭1766',\n",
       "  '积水潭——西直门1899'],\n",
       " ['4号线相邻站间距信息统计表起始/终到车站区间距离（）方',\n",
       "  '安河桥北——北宫门1363',\n",
       "  '北宫门——西苑1251',\n",
       "  '西苑——圆明园1672',\n",
       "  '圆明园——北京大学东门1295',\n",
       "  '北京大学东门——中关村887',\n",
       "  '中关村——海淀黄庄900',\n",
       "  '海淀黄庄——人民大学1063',\n",
       "  '人民大学——魏公村1051',\n",
       "  '魏公村——国家图书馆1658',\n",
       "  '国家图书馆——动物园1517',\n",
       "  '动物园——西直门1441',\n",
       "  '西直门——新街口1025',\n",
       "  '新街口——平安里1100',\n",
       "  '平安里——西四1100',\n",
       "  '西四——灵境胡同869',\n",
       "  '灵境胡同——西单1011',\n",
       "  '西单——宣武门815',\n",
       "  '宣武门——菜市口1152',\n",
       "  '菜市口——陶然亭1200',\n",
       "  '陶然亭——北京南站1643',\n",
       "  '北京南站——马家堡1480',\n",
       "  '马家堡——角门西827',\n",
       "  '角门西——公益西桥989'],\n",
       " ['5号线相邻站间距信息统计表起始/终到车站区间距离方',\n",
       "  '天通苑北——天通苑939',\n",
       "  '天通苑——天通苑南965',\n",
       "  '天通苑南——立水桥1544',\n",
       "  '立水桥——立水桥南1305',\n",
       "  '立水桥南——北苑路北1286',\n",
       "  '北苑路北——大屯路东3',\n",
       "  '大屯路东——惠新西街北口1838',\n",
       "  '惠新西街北口——惠新西街南口1122',\n",
       "  '惠新西街南口——和平西桥1025',\n",
       "  '和平西桥——和平里北街1059',\n",
       "  '和平里北街——雍和宫1151',\n",
       "  '雍和宫——北新桥866',\n",
       "  '北新桥——张自忠路791',\n",
       "  '张自忠路——东四1016',\n",
       "  '东四——灯市口848',\n",
       "  '灯市口——东单945',\n",
       "  '东单——崇文门821',\n",
       "  '崇文门——磁器口876',\n",
       "  '磁器口——天坛东门1183',\n",
       "  '天坛东门——蒲黄榆1.9',\n",
       "  '蒲黄榆——刘家窑905',\n",
       "  '刘家窑——宋家庄1670'],\n",
       " ['6号线相邻站间距信息统计表起始/终到车站区间距离（）方',\n",
       "  '海淀五路居——慈寿寺1508',\n",
       "  '慈寿寺——花园桥1431',\n",
       "  '花园桥——白石桥南1166',\n",
       "  '白石桥南——车公庄西1664',\n",
       "  '车公庄西——车公庄887',\n",
       "  '车公庄——平安里1443',\n",
       "  '平安里——北海北1321',\n",
       "  '北海北——南锣鼓巷1349',\n",
       "  '南锣鼓巷——东四1937',\n",
       "  '东四——朝阳门1399',\n",
       "  '朝阳门——东大桥1668',\n",
       "  '东大桥——呼家楼845',\n",
       "  '呼家楼——金台路1450',\n",
       "  '金台路——十里堡2036',\n",
       "  '十里堡——青年路1282',\n",
       "  '青年路——褡裢坡3999',\n",
       "  '褡裢坡——黄渠1238',\n",
       "  '黄渠——常营1854',\n",
       "  '常营——草房1405',\n",
       "  '草房——物资学院路2115',\n",
       "  '物资学院路——通州北关2557',\n",
       "  '通州北关——通运门1468',\n",
       "  '通运门——北运河西1543',\n",
       "  '北运河西——北运河东1599',\n",
       "  '北运河东——郝家府929',\n",
       "  '郝家府——东夏园1346',\n",
       "  '东夏园——潞城1194'],\n",
       " ['7号线相邻站间距信息统计表起始/终到车站区间距离（）方',\n",
       "  '北京西站——湾子935',\n",
       "  '湾子——达官营734',\n",
       "  '达官营——广安门内1874',\n",
       "  '广安门内——菜市口1374',\n",
       "  '菜市口——虎坊桥885',\n",
       "  '虎坊桥——珠市口1205',\n",
       "  '珠市口——桥湾869',\n",
       "  '桥湾——磁器口1016',\n",
       "  '磁器口——广渠门内1138',\n",
       "  '广渠门内——广渠门外1332',\n",
       "  '广渠门外——双井1241',\n",
       "  '双井——九龙山1311',\n",
       "  '九龙山——大郊亭781',\n",
       "  '大郊亭——百子湾865',\n",
       "  '百子湾——化工903',\n",
       "  '化工——南楼梓庄1464',\n",
       "  '南楼梓庄——欢乐谷景区906',\n",
       "  '欢乐谷景区——垡头1679',\n",
       "  '垡头——双合1304',\n",
       "  '双合——焦化厂1021'],\n",
       " ['8号线相邻站间距信息统计表起始/终到车站区间距离方',\n",
       "  '朱辛庄——育知路2318',\n",
       "  '育知路——平西府1985',\n",
       "  '平西府——回龙观东大街2056',\n",
       "  '回龙观东大街——霍营1114',\n",
       "  '霍营——育新1894',\n",
       "  '育新——西小口1543',\n",
       "  '西小口——永泰庄1041',\n",
       "  '永泰庄——林萃桥2553',\n",
       "  '林萃桥——森林公园南门2555',\n",
       "  '森林公园南门——奥林匹克公园1016',\n",
       "  '奥林匹克公园——奥体中心1667',\n",
       "  '奥体中心——北土城900',\n",
       "  '北土城——安华桥1018',\n",
       "  '安华桥——安德里北街1274',\n",
       "  '安德里北街——鼓楼大街1083',\n",
       "  '鼓楼大街——什刹海1188',\n",
       "  '什刹海——南锣鼓巷902'],\n",
       " ['9号线相邻站间距信息统计表起始/终到车站区间距离（）方',\n",
       "  '国家图书馆——白石桥南1096',\n",
       "  '白石桥南——白堆子943',\n",
       "  '白堆子——军事博物馆1912',\n",
       "  '军事博物馆——北京西站1398',\n",
       "  '北京西站——六里桥东1170',\n",
       "  '六里桥东——六里桥1309',\n",
       "  '六里桥——七里庄1778',\n",
       "  '七里庄——丰台东大街1325',\n",
       "  '丰台东大街——丰台南路1585',\n",
       "  '丰台南路——科怡路980',\n",
       "  '科怡路——丰台科技园788',\n",
       "  '丰台科技园——郭公庄1347'],\n",
       " ['10号线相邻站间距信息统计表起始/终到车站区间距离方',\n",
       "  '巴沟——苏州街1110',\n",
       "  '苏州街——海淀黄庄950',\n",
       "  '海淀黄庄——知春里975',\n",
       "  '知春里——知春路1058',\n",
       "  '知春路——西土城1101',\n",
       "  '西土城——牡丹园1330',\n",
       "  '牡丹园——健德门973',\n",
       "  '健德门——北土城1.1',\n",
       "  '北土城——安贞门1020',\n",
       "  '安贞门——惠新西街南口982',\n",
       "  '惠新西街南口——芍药居1712',\n",
       "  '芍药居——太阳宫1003',\n",
       "  '太阳宫——三元桥1759',\n",
       "  '三元桥——亮马桥1506',\n",
       "  '亮马桥——农业展览馆914',\n",
       "  '农业展览馆——团结湖853',\n",
       "  '团结湖——呼家楼1149',\n",
       "  '呼家楼——金台夕照734',\n",
       "  '金台夕照——国贸835',\n",
       "  '国贸——双井1759',\n",
       "  '双井——劲松1006',\n",
       "  '劲松——潘家园1021',\n",
       "  '潘家园——十里河1097',\n",
       "  '十里河——分钟寺1804',\n",
       "  '分钟寺——成寿寺1058',\n",
       "  '成寿寺——宋家庄1677',\n",
       "  '宋家庄——石榴庄1269',\n",
       "  '石榴庄——大红门1244',\n",
       "  '大红门——角门东1130',\n",
       "  '角门东——角门西1254',\n",
       "  '角门西——草桥1688',\n",
       "  '草桥——纪家庙1547',\n",
       "  '纪家庙——首经贸1143',\n",
       "  '首经贸——丰台站1717',\n",
       "  '丰台站——泥洼954',\n",
       "  '泥洼——西局749',\n",
       "  '西局——六里桥1584',\n",
       "  '六里桥——莲花桥2392',\n",
       "  '莲花桥——公主坟1016',\n",
       "  '公主坟——西钓鱼台2386',\n",
       "  '西钓鱼台——慈寿寺1214',\n",
       "  '慈寿寺——车道沟1590',\n",
       "  '车道沟——长春桥1205',\n",
       "  '长春桥——火器营961',\n",
       "  '火器营——巴沟1495'],\n",
       " ['13号线相邻站间距信息统计表起始/终到车站区间距离方',\n",
       "  '西直门——大钟寺2839',\n",
       "  '大钟寺——知春路1206',\n",
       "  '知春路——五道口1829',\n",
       "  '五道口——上地4866',\n",
       "  '上地——西二旗2538',\n",
       "  '西二旗——龙泽3623',\n",
       "  '龙泽——回龙观1423',\n",
       "  '回龙观——霍营2110',\n",
       "  '霍营——立水桥4785',\n",
       "  '立水桥——北苑2272',\n",
       "  '北苑——望京西6722',\n",
       "  '望京西——芍药居2152',\n",
       "  '芍药居——光熙门1110',\n",
       "  '光熙门——柳芳1135',\n",
       "  '柳芳——东直门1769'],\n",
       " ['15号线相邻站间距信息统计表起始/终到车站区间距离（）方',\n",
       "  '清华东路西口——六道口1144',\n",
       "  '六道口——北沙滩1337',\n",
       "  '北沙滩——奥林匹克公园1999',\n",
       "  '奥林匹克公园——安立路1368',\n",
       "  '安立路——大屯路东938',\n",
       "  '大屯路东——关庄1087',\n",
       "  '关庄——望京西2071',\n",
       "  '望京西——望京1758',\n",
       "  '望京——望京东1652',\n",
       "  '望京东——崔各庄2295',\n",
       "  '崔各庄——马泉营2008',\n",
       "  '马泉营——孙河3309',\n",
       "  '孙河——国展3386',\n",
       "  '国展——花梨坎1615',\n",
       "  '花梨坎——后沙峪3354',\n",
       "  '后沙峪——南法信4576',\n",
       "  '南法信——石门2712',\n",
       "  '石门——顺义1331',\n",
       "  '顺义——俸伯2441'],\n",
       " ['14号线（西段）相邻站间距信息统计表起始/终到车站区间距离（）方',\n",
       "  '张郭庄——园博园1345',\n",
       "  '园博园——大瓦窑4073',\n",
       "  '大瓦窑——郭庄子1236',\n",
       "  '郭庄子——大井2044',\n",
       "  '大井——七里庄1579',\n",
       "  '七里庄——西局845',\n",
       "  '北京南站——陶然桥887',\n",
       "  '陶然桥——永定门外1063',\n",
       "  '永定门外——景泰1119',\n",
       "  '景泰——蒲黄榆1025',\n",
       "  '蒲黄榆——方庄1486',\n",
       "  '方庄——十里河1618',\n",
       "  '十里河——南八里庄1147',\n",
       "  '南八里庄——北工大西门1276',\n",
       "  '北工大西门——平乐园1128',\n",
       "  '平乐园——九龙山897',\n",
       "  '九龙山——大望路1780',\n",
       "  '大望路——红庙708',\n",
       "  '红庙——金台路894',\n",
       "  '金台路——朝阳公园1085',\n",
       "  '朝阳公园——枣营1221',\n",
       "  '枣营——东风北桥2173',\n",
       "  '东风北桥——将台1600',\n",
       "  '将台——高家园1171',\n",
       "  '高家园——望京南676',\n",
       "  '望京南——阜通1168',\n",
       "  '阜通——望京903',\n",
       "  '望京——东湖渠1283',\n",
       "  '东湖渠——来广营1100',\n",
       "  '来广营——善各庄1364'],\n",
       " ['八通线相邻站间距信息统计表起始/终到车站区间距离方',\n",
       "  '四惠——四惠东1715',\n",
       "  '四惠东——高碑店1375',\n",
       "  '高碑店——传媒大学2002',\n",
       "  '传媒大学——双桥1894',\n",
       "  '双桥——管庄1912',\n",
       "  '管庄——八里桥1763',\n",
       "  '八里桥——通州北苑1700',\n",
       "  '通州北苑——果园1465',\n",
       "  '果园——九棵树990',\n",
       "  '九棵树——梨园1225',\n",
       "  '梨园——临河里1257',\n",
       "  '临河里——土桥776'],\n",
       " ['昌平线相邻站间距信息统计表起始/终到车站区间距离方',\n",
       "  '昌平西山口——十三陵景区1213',\n",
       "  '十三陵景区——昌平3508',\n",
       "  '昌平——昌平东关2433',\n",
       "  '昌平东关——北邵洼1683',\n",
       "  '北邵洼——南邵1958',\n",
       "  '南邵——沙河高教园5357',\n",
       "  '沙河高教园——沙河1964',\n",
       "  '沙河——巩华城2025',\n",
       "  '巩华城——朱辛庄3799',\n",
       "  '朱辛庄——生命科学园2367',\n",
       "  '生命科学园——西二旗5440'],\n",
       " ['房山线相邻站间距信息统计表起始/终到车站区间距离（）方',\n",
       "  '郭公庄——大葆台1405',\n",
       "  '大葆台——稻田6466',\n",
       "  '稻田——长阳4041',\n",
       "  '长阳——篱笆房2150',\n",
       "  '篱笆房——广阳城1474',\n",
       "  '广阳城——良乡大学城北2003',\n",
       "  '良乡大学城北——良乡大学城1188',\n",
       "  '良乡大学城——良乡大学城西1738',\n",
       "  '良乡大学城西——良乡南关1332',\n",
       "  '良乡南关——苏庄1330',\n",
       "  '苏庄——阎村东约2300'],\n",
       " ['亦庄线相邻站间距信息统计表起始/终到车站区间距离（）方',\n",
       "  '宋家庄——肖村2631',\n",
       "  '肖村——小红门1275',\n",
       "  '小红门——旧宫2366',\n",
       "  '旧宫——亦庄桥1982',\n",
       "  '亦庄桥——亦庄文化园993',\n",
       "  '亦庄文化园——万源街1728',\n",
       "  '万源街——荣京东街1090',\n",
       "  '荣京东街——荣昌东街1355',\n",
       "  '荣昌东街——同济南路2337',\n",
       "  '同济南路——经海路2301',\n",
       "  '经海路——次渠南2055',\n",
       "  '次渠南——次渠1281']]"
      ]
     },
     "execution_count": 53,
     "metadata": {},
     "output_type": "execute_result"
    }
   ],
   "source": [
    "dist_list"
   ]
  },
  {
   "cell_type": "code",
   "execution_count": 16,
   "metadata": {
    "collapsed": false
   },
   "outputs": [],
   "source": [
    "distance=[]\n",
    "for str_list in dist_list:\n",
    "    for s in str_list[1:]:\n",
    "        seperated=[]\n",
    "        seperated.append(re.split(\"——\",s)[0])\n",
    "        seperated.extend(re.findall(\"[\\u4e00-\\u9fa5]+\",re.split(\"——\",s)[1]))\n",
    "        nostr=re.findall(\"\\d+\",re.split(\"——\",s)[1])[0]\n",
    "        if float(nostr)<10:\n",
    "            nostr=float(nostr)*1000\n",
    "#         if \"-\" in nostr:\n",
    "#             nostr=float(re.split(\"-\",nostr)[0])*float(re.split(\"-\",nostr)[1])\n",
    "        dic=dict()\n",
    "        dic[\"distance\"]=int(nostr)\n",
    "        dic[\"line\"]=str_list[0][:2]\n",
    "        seperated.append(dic)\n",
    "        distance.append(tuple(seperated))"
   ]
  },
  {
   "cell_type": "code",
   "execution_count": 17,
   "metadata": {
    "collapsed": false
   },
   "outputs": [
    {
     "data": {
      "text/plain": [
       "[('苹果园', '古城', {'distance': 2606, 'line': '1号'}),\n",
       " ('古城', '八角游乐园', {'distance': 1921, 'line': '1号'}),\n",
       " ('八角游乐园', '八宝山', {'distance': 1953, 'line': '1号'}),\n",
       " ('八宝山', '玉泉路', {'distance': 1479, 'line': '1号'}),\n",
       " ('玉泉路', '五棵松', {'distance': 1810, 'line': '1号'}),\n",
       " ('五棵松', '万寿路', {'distance': 1778, 'line': '1号'}),\n",
       " ('万寿路', '公主坟', {'distance': 1313, 'line': '1号'}),\n",
       " ('公主坟', '军事博物馆', {'distance': 1172, 'line': '1号'}),\n",
       " ('军事博物馆', '木樨地', {'distance': 1166, 'line': '1号'}),\n",
       " ('木樨地', '南礼士路', {'distance': 1291, 'line': '1号'}),\n",
       " ('南礼士路', '复兴门', {'distance': 424, 'line': '1号'}),\n",
       " ('复兴门', '西单', {'distance': 1590, 'line': '1号'}),\n",
       " ('西单', '天安门西', {'distance': 1217, 'line': '1号'}),\n",
       " ('天安门西', '天安门东', {'distance': 925, 'line': '1号'}),\n",
       " ('天安门东', '王府井', {'distance': 852, 'line': '1号'}),\n",
       " ('王府井', '东单', {'distance': 774, 'line': '1号'}),\n",
       " ('东单', '建国门', {'distance': 1230, 'line': '1号'}),\n",
       " ('建国门', '永安里', {'distance': 1377, 'line': '1号'}),\n",
       " ('永安里', '国贸', {'distance': 790, 'line': '1号'}),\n",
       " ('国贸', '大望路', {'distance': 1385, 'line': '1号'}),\n",
       " ('大望路', '四惠', {'distance': 1673, 'line': '1号'}),\n",
       " ('四惠', '四惠东', {'distance': 1714, 'line': '1号'}),\n",
       " ('西直门', '车公庄', {'distance': 909, 'line': '2号'}),\n",
       " ('车公庄', '阜成门', {'distance': 960, 'line': '2号'}),\n",
       " ('阜成门', '复兴门', {'distance': 1832, 'line': '2号'}),\n",
       " ('复兴门', '长椿街', {'distance': 1234, 'line': '2号'}),\n",
       " ('长椿街', '宣武门', {'distance': 929, 'line': '2号'}),\n",
       " ('宣武门', '和平门', {'distance': 851, 'line': '2号'}),\n",
       " ('和平门', '前门', {'distance': 1171, 'line': '2号'}),\n",
       " ('前门', '崇文门', {'distance': 1634, 'line': '2号'}),\n",
       " ('崇文门', '北京站', {'distance': 1023, 'line': '2号'}),\n",
       " ('北京站', '建国门', {'distance': 945, 'line': '2号'}),\n",
       " ('建国门', '朝阳门', {'distance': 1763, 'line': '2号'}),\n",
       " ('朝阳门', '东四十条', {'distance': 1027, 'line': '2号'}),\n",
       " ('东四十条', '东直门', {'distance': 824, 'line': '2号'}),\n",
       " ('东直门', '雍和宫', {'distance': 2228, 'line': '2号'}),\n",
       " ('雍和宫', '安定门', {'distance': 794, 'line': '2号'}),\n",
       " ('安定门', '鼓楼大街', {'distance': 1237, 'line': '2号'}),\n",
       " ('鼓楼大街', '积水潭', {'distance': 1766, 'line': '2号'}),\n",
       " ('积水潭', '西直门', {'distance': 1899, 'line': '2号'}),\n",
       " ('安河桥北', '北宫门', {'distance': 1363, 'line': '4号'}),\n",
       " ('北宫门', '西苑', {'distance': 1251, 'line': '4号'}),\n",
       " ('西苑', '圆明园', {'distance': 1672, 'line': '4号'}),\n",
       " ('圆明园', '北京大学东门', {'distance': 1295, 'line': '4号'}),\n",
       " ('北京大学东门', '中关村', {'distance': 887, 'line': '4号'}),\n",
       " ('中关村', '海淀黄庄', {'distance': 900, 'line': '4号'}),\n",
       " ('海淀黄庄', '人民大学', {'distance': 1063, 'line': '4号'}),\n",
       " ('人民大学', '魏公村', {'distance': 1051, 'line': '4号'}),\n",
       " ('魏公村', '国家图书馆', {'distance': 1658, 'line': '4号'}),\n",
       " ('国家图书馆', '动物园', {'distance': 1517, 'line': '4号'}),\n",
       " ('动物园', '西直门', {'distance': 1441, 'line': '4号'}),\n",
       " ('西直门', '新街口', {'distance': 1025, 'line': '4号'}),\n",
       " ('新街口', '平安里', {'distance': 1100, 'line': '4号'}),\n",
       " ('平安里', '西四', {'distance': 1100, 'line': '4号'}),\n",
       " ('西四', '灵境胡同', {'distance': 869, 'line': '4号'}),\n",
       " ('灵境胡同', '西单', {'distance': 1011, 'line': '4号'}),\n",
       " ('西单', '宣武门', {'distance': 815, 'line': '4号'}),\n",
       " ('宣武门', '菜市口', {'distance': 1152, 'line': '4号'}),\n",
       " ('菜市口', '陶然亭', {'distance': 1200, 'line': '4号'}),\n",
       " ('陶然亭', '北京南站', {'distance': 1643, 'line': '4号'}),\n",
       " ('北京南站', '马家堡', {'distance': 1480, 'line': '4号'}),\n",
       " ('马家堡', '角门西', {'distance': 827, 'line': '4号'}),\n",
       " ('角门西', '公益西桥', {'distance': 989, 'line': '4号'}),\n",
       " ('天通苑北', '天通苑', {'distance': 939, 'line': '5号'}),\n",
       " ('天通苑', '天通苑南', {'distance': 965, 'line': '5号'}),\n",
       " ('天通苑南', '立水桥', {'distance': 1544, 'line': '5号'}),\n",
       " ('立水桥', '立水桥南', {'distance': 1305, 'line': '5号'}),\n",
       " ('立水桥南', '北苑路北', {'distance': 1286, 'line': '5号'}),\n",
       " ('北苑路北', '大屯路东', {'distance': 3000, 'line': '5号'}),\n",
       " ('大屯路东', '惠新西街北口', {'distance': 1838, 'line': '5号'}),\n",
       " ('惠新西街北口', '惠新西街南口', {'distance': 1122, 'line': '5号'}),\n",
       " ('惠新西街南口', '和平西桥', {'distance': 1025, 'line': '5号'}),\n",
       " ('和平西桥', '和平里北街', {'distance': 1059, 'line': '5号'}),\n",
       " ('和平里北街', '雍和宫', {'distance': 1151, 'line': '5号'}),\n",
       " ('雍和宫', '北新桥', {'distance': 866, 'line': '5号'}),\n",
       " ('北新桥', '张自忠路', {'distance': 791, 'line': '5号'}),\n",
       " ('张自忠路', '东四', {'distance': 1016, 'line': '5号'}),\n",
       " ('东四', '灯市口', {'distance': 848, 'line': '5号'}),\n",
       " ('灯市口', '东单', {'distance': 945, 'line': '5号'}),\n",
       " ('东单', '崇文门', {'distance': 821, 'line': '5号'}),\n",
       " ('崇文门', '磁器口', {'distance': 876, 'line': '5号'}),\n",
       " ('磁器口', '天坛东门', {'distance': 1183, 'line': '5号'}),\n",
       " ('天坛东门', '蒲黄榆', {'distance': 1000, 'line': '5号'}),\n",
       " ('蒲黄榆', '刘家窑', {'distance': 905, 'line': '5号'}),\n",
       " ('刘家窑', '宋家庄', {'distance': 1670, 'line': '5号'}),\n",
       " ('海淀五路居', '慈寿寺', {'distance': 1508, 'line': '6号'}),\n",
       " ('慈寿寺', '花园桥', {'distance': 1431, 'line': '6号'}),\n",
       " ('花园桥', '白石桥南', {'distance': 1166, 'line': '6号'}),\n",
       " ('白石桥南', '车公庄西', {'distance': 1664, 'line': '6号'}),\n",
       " ('车公庄西', '车公庄', {'distance': 887, 'line': '6号'}),\n",
       " ('车公庄', '平安里', {'distance': 1443, 'line': '6号'}),\n",
       " ('平安里', '北海北', {'distance': 1321, 'line': '6号'}),\n",
       " ('北海北', '南锣鼓巷', {'distance': 1349, 'line': '6号'}),\n",
       " ('南锣鼓巷', '东四', {'distance': 1937, 'line': '6号'}),\n",
       " ('东四', '朝阳门', {'distance': 1399, 'line': '6号'}),\n",
       " ('朝阳门', '东大桥', {'distance': 1668, 'line': '6号'}),\n",
       " ('东大桥', '呼家楼', {'distance': 845, 'line': '6号'}),\n",
       " ('呼家楼', '金台路', {'distance': 1450, 'line': '6号'}),\n",
       " ('金台路', '十里堡', {'distance': 2036, 'line': '6号'}),\n",
       " ('十里堡', '青年路', {'distance': 1282, 'line': '6号'}),\n",
       " ('青年路', '褡裢坡', {'distance': 3999, 'line': '6号'}),\n",
       " ('褡裢坡', '黄渠', {'distance': 1238, 'line': '6号'}),\n",
       " ('黄渠', '常营', {'distance': 1854, 'line': '6号'}),\n",
       " ('常营', '草房', {'distance': 1405, 'line': '6号'}),\n",
       " ('草房', '物资学院路', {'distance': 2115, 'line': '6号'}),\n",
       " ('物资学院路', '通州北关', {'distance': 2557, 'line': '6号'}),\n",
       " ('通州北关', '通运门', {'distance': 1468, 'line': '6号'}),\n",
       " ('通运门', '北运河西', {'distance': 1543, 'line': '6号'}),\n",
       " ('北运河西', '北运河东', {'distance': 1599, 'line': '6号'}),\n",
       " ('北运河东', '郝家府', {'distance': 929, 'line': '6号'}),\n",
       " ('郝家府', '东夏园', {'distance': 1346, 'line': '6号'}),\n",
       " ('东夏园', '潞城', {'distance': 1194, 'line': '6号'}),\n",
       " ('北京西站', '湾子', {'distance': 935, 'line': '7号'}),\n",
       " ('湾子', '达官营', {'distance': 734, 'line': '7号'}),\n",
       " ('达官营', '广安门内', {'distance': 1874, 'line': '7号'}),\n",
       " ('广安门内', '菜市口', {'distance': 1374, 'line': '7号'}),\n",
       " ('菜市口', '虎坊桥', {'distance': 885, 'line': '7号'}),\n",
       " ('虎坊桥', '珠市口', {'distance': 1205, 'line': '7号'}),\n",
       " ('珠市口', '桥湾', {'distance': 869, 'line': '7号'}),\n",
       " ('桥湾', '磁器口', {'distance': 1016, 'line': '7号'}),\n",
       " ('磁器口', '广渠门内', {'distance': 1138, 'line': '7号'}),\n",
       " ('广渠门内', '广渠门外', {'distance': 1332, 'line': '7号'}),\n",
       " ('广渠门外', '双井', {'distance': 1241, 'line': '7号'}),\n",
       " ('双井', '九龙山', {'distance': 1311, 'line': '7号'}),\n",
       " ('九龙山', '大郊亭', {'distance': 781, 'line': '7号'}),\n",
       " ('大郊亭', '百子湾', {'distance': 865, 'line': '7号'}),\n",
       " ('百子湾', '化工', {'distance': 903, 'line': '7号'}),\n",
       " ('化工', '南楼梓庄', {'distance': 1464, 'line': '7号'}),\n",
       " ('南楼梓庄', '欢乐谷景区', {'distance': 906, 'line': '7号'}),\n",
       " ('欢乐谷景区', '垡头', {'distance': 1679, 'line': '7号'}),\n",
       " ('垡头', '双合', {'distance': 1304, 'line': '7号'}),\n",
       " ('双合', '焦化厂', {'distance': 1021, 'line': '7号'}),\n",
       " ('朱辛庄', '育知路', {'distance': 2318, 'line': '8号'}),\n",
       " ('育知路', '平西府', {'distance': 1985, 'line': '8号'}),\n",
       " ('平西府', '回龙观东大街', {'distance': 2056, 'line': '8号'}),\n",
       " ('回龙观东大街', '霍营', {'distance': 1114, 'line': '8号'}),\n",
       " ('霍营', '育新', {'distance': 1894, 'line': '8号'}),\n",
       " ('育新', '西小口', {'distance': 1543, 'line': '8号'}),\n",
       " ('西小口', '永泰庄', {'distance': 1041, 'line': '8号'}),\n",
       " ('永泰庄', '林萃桥', {'distance': 2553, 'line': '8号'}),\n",
       " ('林萃桥', '森林公园南门', {'distance': 2555, 'line': '8号'}),\n",
       " ('森林公园南门', '奥林匹克公园', {'distance': 1016, 'line': '8号'}),\n",
       " ('奥林匹克公园', '奥体中心', {'distance': 1667, 'line': '8号'}),\n",
       " ('奥体中心', '北土城', {'distance': 900, 'line': '8号'}),\n",
       " ('北土城', '安华桥', {'distance': 1018, 'line': '8号'}),\n",
       " ('安华桥', '安德里北街', {'distance': 1274, 'line': '8号'}),\n",
       " ('安德里北街', '鼓楼大街', {'distance': 1083, 'line': '8号'}),\n",
       " ('鼓楼大街', '什刹海', {'distance': 1188, 'line': '8号'}),\n",
       " ('什刹海', '南锣鼓巷', {'distance': 902, 'line': '8号'}),\n",
       " ('国家图书馆', '白石桥南', {'distance': 1096, 'line': '9号'}),\n",
       " ('白石桥南', '白堆子', {'distance': 943, 'line': '9号'}),\n",
       " ('白堆子', '军事博物馆', {'distance': 1912, 'line': '9号'}),\n",
       " ('军事博物馆', '北京西站', {'distance': 1398, 'line': '9号'}),\n",
       " ('北京西站', '六里桥东', {'distance': 1170, 'line': '9号'}),\n",
       " ('六里桥东', '六里桥', {'distance': 1309, 'line': '9号'}),\n",
       " ('六里桥', '七里庄', {'distance': 1778, 'line': '9号'}),\n",
       " ('七里庄', '丰台东大街', {'distance': 1325, 'line': '9号'}),\n",
       " ('丰台东大街', '丰台南路', {'distance': 1585, 'line': '9号'}),\n",
       " ('丰台南路', '科怡路', {'distance': 980, 'line': '9号'}),\n",
       " ('科怡路', '丰台科技园', {'distance': 788, 'line': '9号'}),\n",
       " ('丰台科技园', '郭公庄', {'distance': 1347, 'line': '9号'}),\n",
       " ('巴沟', '苏州街', {'distance': 1110, 'line': '10'}),\n",
       " ('苏州街', '海淀黄庄', {'distance': 950, 'line': '10'}),\n",
       " ('海淀黄庄', '知春里', {'distance': 975, 'line': '10'}),\n",
       " ('知春里', '知春路', {'distance': 1058, 'line': '10'}),\n",
       " ('知春路', '西土城', {'distance': 1101, 'line': '10'}),\n",
       " ('西土城', '牡丹园', {'distance': 1330, 'line': '10'}),\n",
       " ('牡丹园', '健德门', {'distance': 973, 'line': '10'}),\n",
       " ('健德门', '北土城', {'distance': 1000, 'line': '10'}),\n",
       " ('北土城', '安贞门', {'distance': 1020, 'line': '10'}),\n",
       " ('安贞门', '惠新西街南口', {'distance': 982, 'line': '10'}),\n",
       " ('惠新西街南口', '芍药居', {'distance': 1712, 'line': '10'}),\n",
       " ('芍药居', '太阳宫', {'distance': 1003, 'line': '10'}),\n",
       " ('太阳宫', '三元桥', {'distance': 1759, 'line': '10'}),\n",
       " ('三元桥', '亮马桥', {'distance': 1506, 'line': '10'}),\n",
       " ('亮马桥', '农业展览馆', {'distance': 914, 'line': '10'}),\n",
       " ('农业展览馆', '团结湖', {'distance': 853, 'line': '10'}),\n",
       " ('团结湖', '呼家楼', {'distance': 1149, 'line': '10'}),\n",
       " ('呼家楼', '金台夕照', {'distance': 734, 'line': '10'}),\n",
       " ('金台夕照', '国贸', {'distance': 835, 'line': '10'}),\n",
       " ('国贸', '双井', {'distance': 1759, 'line': '10'}),\n",
       " ('双井', '劲松', {'distance': 1006, 'line': '10'}),\n",
       " ('劲松', '潘家园', {'distance': 1021, 'line': '10'}),\n",
       " ('潘家园', '十里河', {'distance': 1097, 'line': '10'}),\n",
       " ('十里河', '分钟寺', {'distance': 1804, 'line': '10'}),\n",
       " ('分钟寺', '成寿寺', {'distance': 1058, 'line': '10'}),\n",
       " ('成寿寺', '宋家庄', {'distance': 1677, 'line': '10'}),\n",
       " ('宋家庄', '石榴庄', {'distance': 1269, 'line': '10'}),\n",
       " ('石榴庄', '大红门', {'distance': 1244, 'line': '10'}),\n",
       " ('大红门', '角门东', {'distance': 1130, 'line': '10'}),\n",
       " ('角门东', '角门西', {'distance': 1254, 'line': '10'}),\n",
       " ('角门西', '草桥', {'distance': 1688, 'line': '10'}),\n",
       " ('草桥', '纪家庙', {'distance': 1547, 'line': '10'}),\n",
       " ('纪家庙', '首经贸', {'distance': 1143, 'line': '10'}),\n",
       " ('首经贸', '丰台站', {'distance': 1717, 'line': '10'}),\n",
       " ('丰台站', '泥洼', {'distance': 954, 'line': '10'}),\n",
       " ('泥洼', '西局', {'distance': 749, 'line': '10'}),\n",
       " ('西局', '六里桥', {'distance': 1584, 'line': '10'}),\n",
       " ('六里桥', '莲花桥', {'distance': 2392, 'line': '10'}),\n",
       " ('莲花桥', '公主坟', {'distance': 1016, 'line': '10'}),\n",
       " ('公主坟', '西钓鱼台', {'distance': 2386, 'line': '10'}),\n",
       " ('西钓鱼台', '慈寿寺', {'distance': 1214, 'line': '10'}),\n",
       " ('慈寿寺', '车道沟', {'distance': 1590, 'line': '10'}),\n",
       " ('车道沟', '长春桥', {'distance': 1205, 'line': '10'}),\n",
       " ('长春桥', '火器营', {'distance': 961, 'line': '10'}),\n",
       " ('火器营', '巴沟', {'distance': 1495, 'line': '10'}),\n",
       " ('西直门', '大钟寺', {'distance': 2839, 'line': '13'}),\n",
       " ('大钟寺', '知春路', {'distance': 1206, 'line': '13'}),\n",
       " ('知春路', '五道口', {'distance': 1829, 'line': '13'}),\n",
       " ('五道口', '上地', {'distance': 4866, 'line': '13'}),\n",
       " ('上地', '西二旗', {'distance': 2538, 'line': '13'}),\n",
       " ('西二旗', '龙泽', {'distance': 3623, 'line': '13'}),\n",
       " ('龙泽', '回龙观', {'distance': 1423, 'line': '13'}),\n",
       " ('回龙观', '霍营', {'distance': 2110, 'line': '13'}),\n",
       " ('霍营', '立水桥', {'distance': 4785, 'line': '13'}),\n",
       " ('立水桥', '北苑', {'distance': 2272, 'line': '13'}),\n",
       " ('北苑', '望京西', {'distance': 6722, 'line': '13'}),\n",
       " ('望京西', '芍药居', {'distance': 2152, 'line': '13'}),\n",
       " ('芍药居', '光熙门', {'distance': 1110, 'line': '13'}),\n",
       " ('光熙门', '柳芳', {'distance': 1135, 'line': '13'}),\n",
       " ('柳芳', '东直门', {'distance': 1769, 'line': '13'}),\n",
       " ('清华东路西口', '六道口', {'distance': 1144, 'line': '15'}),\n",
       " ('六道口', '北沙滩', {'distance': 1337, 'line': '15'}),\n",
       " ('北沙滩', '奥林匹克公园', {'distance': 1999, 'line': '15'}),\n",
       " ('奥林匹克公园', '安立路', {'distance': 1368, 'line': '15'}),\n",
       " ('安立路', '大屯路东', {'distance': 938, 'line': '15'}),\n",
       " ('大屯路东', '关庄', {'distance': 1087, 'line': '15'}),\n",
       " ('关庄', '望京西', {'distance': 2071, 'line': '15'}),\n",
       " ('望京西', '望京', {'distance': 1758, 'line': '15'}),\n",
       " ('望京', '望京东', {'distance': 1652, 'line': '15'}),\n",
       " ('望京东', '崔各庄', {'distance': 2295, 'line': '15'}),\n",
       " ('崔各庄', '马泉营', {'distance': 2008, 'line': '15'}),\n",
       " ('马泉营', '孙河', {'distance': 3309, 'line': '15'}),\n",
       " ('孙河', '国展', {'distance': 3386, 'line': '15'}),\n",
       " ('国展', '花梨坎', {'distance': 1615, 'line': '15'}),\n",
       " ('花梨坎', '后沙峪', {'distance': 3354, 'line': '15'}),\n",
       " ('后沙峪', '南法信', {'distance': 4576, 'line': '15'}),\n",
       " ('南法信', '石门', {'distance': 2712, 'line': '15'}),\n",
       " ('石门', '顺义', {'distance': 1331, 'line': '15'}),\n",
       " ('顺义', '俸伯', {'distance': 2441, 'line': '15'}),\n",
       " ('张郭庄', '园博园', {'distance': 1345, 'line': '14'}),\n",
       " ('园博园', '大瓦窑', {'distance': 4073, 'line': '14'}),\n",
       " ('大瓦窑', '郭庄子', {'distance': 1236, 'line': '14'}),\n",
       " ('郭庄子', '大井', {'distance': 2044, 'line': '14'}),\n",
       " ('大井', '七里庄', {'distance': 1579, 'line': '14'}),\n",
       " ('七里庄', '西局', {'distance': 845, 'line': '14'}),\n",
       " ('北京南站', '陶然桥', {'distance': 887, 'line': '14'}),\n",
       " ('陶然桥', '永定门外', {'distance': 1063, 'line': '14'}),\n",
       " ('永定门外', '景泰', {'distance': 1119, 'line': '14'}),\n",
       " ('景泰', '蒲黄榆', {'distance': 1025, 'line': '14'}),\n",
       " ('蒲黄榆', '方庄', {'distance': 1486, 'line': '14'}),\n",
       " ('方庄', '十里河', {'distance': 1618, 'line': '14'}),\n",
       " ('十里河', '南八里庄', {'distance': 1147, 'line': '14'}),\n",
       " ('南八里庄', '北工大西门', {'distance': 1276, 'line': '14'}),\n",
       " ('北工大西门', '平乐园', {'distance': 1128, 'line': '14'}),\n",
       " ('平乐园', '九龙山', {'distance': 897, 'line': '14'}),\n",
       " ('九龙山', '大望路', {'distance': 1780, 'line': '14'}),\n",
       " ('大望路', '红庙', {'distance': 708, 'line': '14'}),\n",
       " ('红庙', '金台路', {'distance': 894, 'line': '14'}),\n",
       " ('金台路', '朝阳公园', {'distance': 1085, 'line': '14'}),\n",
       " ('朝阳公园', '枣营', {'distance': 1221, 'line': '14'}),\n",
       " ('枣营', '东风北桥', {'distance': 2173, 'line': '14'}),\n",
       " ('东风北桥', '将台', {'distance': 1600, 'line': '14'}),\n",
       " ('将台', '高家园', {'distance': 1171, 'line': '14'}),\n",
       " ('高家园', '望京南', {'distance': 676, 'line': '14'}),\n",
       " ('望京南', '阜通', {'distance': 1168, 'line': '14'}),\n",
       " ('阜通', '望京', {'distance': 903, 'line': '14'}),\n",
       " ('望京', '东湖渠', {'distance': 1283, 'line': '14'}),\n",
       " ('东湖渠', '来广营', {'distance': 1100, 'line': '14'}),\n",
       " ('来广营', '善各庄', {'distance': 1364, 'line': '14'}),\n",
       " ('四惠', '四惠东', {'distance': 1715, 'line': '八通'}),\n",
       " ('四惠东', '高碑店', {'distance': 1375, 'line': '八通'}),\n",
       " ('高碑店', '传媒大学', {'distance': 2002, 'line': '八通'}),\n",
       " ('传媒大学', '双桥', {'distance': 1894, 'line': '八通'}),\n",
       " ('双桥', '管庄', {'distance': 1912, 'line': '八通'}),\n",
       " ('管庄', '八里桥', {'distance': 1763, 'line': '八通'}),\n",
       " ('八里桥', '通州北苑', {'distance': 1700, 'line': '八通'}),\n",
       " ('通州北苑', '果园', {'distance': 1465, 'line': '八通'}),\n",
       " ('果园', '九棵树', {'distance': 990, 'line': '八通'}),\n",
       " ('九棵树', '梨园', {'distance': 1225, 'line': '八通'}),\n",
       " ('梨园', '临河里', {'distance': 1257, 'line': '八通'}),\n",
       " ('临河里', '土桥', {'distance': 776, 'line': '八通'}),\n",
       " ('昌平西山口', '十三陵景区', {'distance': 1213, 'line': '昌平'}),\n",
       " ('十三陵景区', '昌平', {'distance': 3508, 'line': '昌平'}),\n",
       " ('昌平', '昌平东关', {'distance': 2433, 'line': '昌平'}),\n",
       " ('昌平东关', '北邵洼', {'distance': 1683, 'line': '昌平'}),\n",
       " ('北邵洼', '南邵', {'distance': 1958, 'line': '昌平'}),\n",
       " ('南邵', '沙河高教园', {'distance': 5357, 'line': '昌平'}),\n",
       " ('沙河高教园', '沙河', {'distance': 1964, 'line': '昌平'}),\n",
       " ('沙河', '巩华城', {'distance': 2025, 'line': '昌平'}),\n",
       " ('巩华城', '朱辛庄', {'distance': 3799, 'line': '昌平'}),\n",
       " ('朱辛庄', '生命科学园', {'distance': 2367, 'line': '昌平'}),\n",
       " ('生命科学园', '西二旗', {'distance': 5440, 'line': '昌平'}),\n",
       " ('郭公庄', '大葆台', {'distance': 1405, 'line': '房山'}),\n",
       " ('大葆台', '稻田', {'distance': 6466, 'line': '房山'}),\n",
       " ('稻田', '长阳', {'distance': 4041, 'line': '房山'}),\n",
       " ('长阳', '篱笆房', {'distance': 2150, 'line': '房山'}),\n",
       " ('篱笆房', '广阳城', {'distance': 1474, 'line': '房山'}),\n",
       " ('广阳城', '良乡大学城北', {'distance': 2003, 'line': '房山'}),\n",
       " ('良乡大学城北', '良乡大学城', {'distance': 1188, 'line': '房山'}),\n",
       " ('良乡大学城', '良乡大学城西', {'distance': 1738, 'line': '房山'}),\n",
       " ('良乡大学城西', '良乡南关', {'distance': 1332, 'line': '房山'}),\n",
       " ('良乡南关', '苏庄', {'distance': 1330, 'line': '房山'}),\n",
       " ('苏庄', '阎村东约', {'distance': 2300, 'line': '房山'}),\n",
       " ('宋家庄', '肖村', {'distance': 2631, 'line': '亦庄'}),\n",
       " ('肖村', '小红门', {'distance': 1275, 'line': '亦庄'}),\n",
       " ('小红门', '旧宫', {'distance': 2366, 'line': '亦庄'}),\n",
       " ('旧宫', '亦庄桥', {'distance': 1982, 'line': '亦庄'}),\n",
       " ('亦庄桥', '亦庄文化园', {'distance': 993, 'line': '亦庄'}),\n",
       " ('亦庄文化园', '万源街', {'distance': 1728, 'line': '亦庄'}),\n",
       " ('万源街', '荣京东街', {'distance': 1090, 'line': '亦庄'}),\n",
       " ('荣京东街', '荣昌东街', {'distance': 1355, 'line': '亦庄'}),\n",
       " ('荣昌东街', '同济南路', {'distance': 2337, 'line': '亦庄'}),\n",
       " ('同济南路', '经海路', {'distance': 2301, 'line': '亦庄'}),\n",
       " ('经海路', '次渠南', {'distance': 2055, 'line': '亦庄'}),\n",
       " ('次渠南', '次渠', {'distance': 1281, 'line': '亦庄'})]"
      ]
     },
     "execution_count": 17,
     "metadata": {},
     "output_type": "execute_result"
    }
   ],
   "source": [
    "distance"
   ]
  },
  {
   "cell_type": "code",
   "execution_count": 18,
   "metadata": {
    "collapsed": false
   },
   "outputs": [],
   "source": [
    "graph=nx.Graph()\n",
    "graph.add_edges_from(distance)"
   ]
  },
  {
   "cell_type": "code",
   "execution_count": 19,
   "metadata": {
    "collapsed": false
   },
   "outputs": [],
   "source": [
    "%matplotlib inline"
   ]
  },
  {
   "cell_type": "code",
   "execution_count": 20,
   "metadata": {
    "collapsed": false
   },
   "outputs": [
    {
     "name": "stderr",
     "output_type": "stream",
     "text": [
      "C:\\Anaconda3\\lib\\site-packages\\networkx\\drawing\\nx_pylab.py:522: MatplotlibDeprecationWarning: The is_string_like function was deprecated in version 2.1.\n",
      "  if not cb.is_string_like(edge_color) \\\n",
      "C:\\Anaconda3\\lib\\site-packages\\networkx\\drawing\\nx_pylab.py:543: MatplotlibDeprecationWarning: The is_string_like function was deprecated in version 2.1.\n",
      "  if cb.is_string_like(edge_color) or len(edge_color) == 1:\n",
      "C:\\Anaconda3\\lib\\site-packages\\networkx\\drawing\\nx_pylab.py:724: MatplotlibDeprecationWarning: The is_string_like function was deprecated in version 2.1.\n",
      "  if not cb.is_string_like(label):\n"
     ]
    },
    {
     "data": {
      "image/png": "[encoded data removed]",
      "text/plain": [
       "<Figure size 432x288 with 1 Axes>"
      ]
     },
     "metadata": {},
     "output_type": "display_data"
    }
   ],
   "source": [
    "nx.draw_networkx(graph,with_Labels=True,node_size=10)"
   ]
  },
  {
   "cell_type": "code",
   "execution_count": 21,
   "metadata": {
    "collapsed": false
   },
   "outputs": [
    {
     "data": {
      "text/plain": [
       "{'后沙峪': {'distance': 4576, 'line': '15'},\n",
       " '石门': {'distance': 2712, 'line': '15'}}"
      ]
     },
     "execution_count": 21,
     "metadata": {},
     "output_type": "execute_result"
    }
   ],
   "source": [
    "graph[\"南法信\"]"
   ]
  },
  {
   "cell_type": "code",
   "execution_count": 22,
   "metadata": {
    "collapsed": false
   },
   "outputs": [
    {
     "data": {
      "text/plain": [
       "{'distance': 4576, 'line': '15'}"
      ]
     },
     "execution_count": 22,
     "metadata": {},
     "output_type": "execute_result"
    }
   ],
   "source": [
    "graph.get_edge_data(\"南法信\",\"后沙峪\")"
   ]
  },
  {
   "cell_type": "code",
   "execution_count": 23,
   "metadata": {
    "collapsed": false
   },
   "outputs": [
    {
     "data": {
      "text/plain": [
       "['后沙峪', '石门']"
      ]
     },
     "execution_count": 23,
     "metadata": {},
     "output_type": "execute_result"
    }
   ],
   "source": [
    "graph.neighbors(\"南法信\")"
   ]
  },
  {
   "cell_type": "code",
   "execution_count": 24,
   "metadata": {
    "collapsed": false
   },
   "outputs": [
    {
     "data": {
      "text/plain": [
       "276"
      ]
     },
     "execution_count": 24,
     "metadata": {},
     "output_type": "execute_result"
    }
   ],
   "source": [
    "graph.order()\n",
    "# number of nodes"
   ]
  },
  {
   "cell_type": "code",
   "execution_count": 25,
   "metadata": {
    "collapsed": false
   },
   "outputs": [
    {
     "data": {
      "text/plain": [
       "315"
      ]
     },
     "execution_count": 25,
     "metadata": {},
     "output_type": "execute_result"
    }
   ],
   "source": [
    "graph.size()\n",
    "# number of edges"
   ]
  },
  {
   "cell_type": "code",
   "execution_count": 44,
   "metadata": {
    "collapsed": true
   },
   "outputs": [],
   "source": [
    "graph=graph.to_undirected()"
   ]
  },
  {
   "cell_type": "code",
   "execution_count": 45,
   "metadata": {
    "collapsed": false
   },
   "outputs": [
    {
     "data": {
      "text/plain": [
       "315"
      ]
     },
     "execution_count": 45,
     "metadata": {},
     "output_type": "execute_result"
    }
   ],
   "source": [
    "graph.size()"
   ]
  },
  {
   "cell_type": "code",
   "execution_count": 26,
   "metadata": {
    "collapsed": false
   },
   "outputs": [],
   "source": [
    "def get_successor(frontier,graph):\n",
    "    return graph.neighbors(frontier)\n",
    "\n",
    "def get_distance(path,graph):\n",
    "    dist=0\n",
    "    for i in range(len(path)-1):\n",
    "        dist+=graph.get_edge_data(path[i],path[i+1])['distance']\n",
    "    return dist\n",
    "\n",
    "def get_lines(path,graph):\n",
    "    lines=set()\n",
    "    for i in range(len(path)-1):\n",
    "        if graph.get_edge_data(path[i],path[i+1])['line'] not in lines:\n",
    "            lines.add(graph.get_edge_data(path[i],path[i+1])['line'])\n",
    "    return len(lines)"
   ]
  },
  {
   "cell_type": "code",
   "execution_count": 27,
   "metadata": {
    "collapsed": true
   },
   "outputs": [],
   "source": [
    "def is_goal(node,destination):\n",
    "    return node==destination\n",
    "def is_goal(predicate):\n",
    "    def _predicate(condition):\n",
    "        return predicate(condition)\n",
    "    return _predicate"
   ]
  },
  {
   "cell_type": "code",
   "execution_count": 28,
   "metadata": {
    "collapsed": true
   },
   "outputs": [],
   "source": [
    "def min_transfer(pathes):\n",
    "    return sort_pathes(pathes,lambda p:get_lines(p,graph))\n",
    "# 最少换乘\n",
    "def min_distance(pathes):\n",
    "    return sort_pathes(pathes,lambda p:get_distance(p,graph))\n",
    "# 最少距离\n",
    "def min_stations(pathes):\n",
    "    return sort_pathes(pathes,lambda p:len(p))\n",
    "# 最少站数\n",
    "def sort_pathes(pathes,func):\n",
    "    return sorted(pathes,key=func)"
   ]
  },
  {
   "cell_type": "code",
   "execution_count": 29,
   "metadata": {
    "collapsed": true
   },
   "outputs": [],
   "source": [
    "def search_destination(graph,start,get_successor,is_goal_predicate,strategy_func):\n",
    "    pathes=[[start]]\n",
    "    visited=set()\n",
    "    possible_path=[]\n",
    "    while pathes:\n",
    "        path=pathes.pop(0)\n",
    "        frontier=path[-1]\n",
    "        if frontier in visited:\n",
    "            continue\n",
    "        for station in get_successor(frontier,graph):\n",
    "            if station in path:\n",
    "                continue\n",
    "            new_path=path+[station]\n",
    "            pathes.append(new_path)\n",
    "            if is_goal_predicate(station):\n",
    "                possible_path.append(new_path)\n",
    "        \n",
    "        visited.add(frontier)\n",
    "    possible_path=strategy_func(possible_path)\n",
    "    return possible_path"
   ]
  },
  {
   "cell_type": "code",
   "execution_count": 49,
   "metadata": {
    "collapsed": false
   },
   "outputs": [
    {
     "name": "stdout",
     "output_type": "stream",
     "text": [
      "最少距离:[['南法信', '后沙峪', '花梨坎', '国展', '孙河', '马泉营', '崔各庄', '望京东', '望京', '望京西', '关庄', '大屯路东', '安立路', '奥林匹克公园'], ['南法信', '后沙峪', '花梨坎', '国展', '孙河', '马泉营', '崔各庄', '望京东', '望京', '望京西', '芍药居', '惠新西街南口', '安贞门', '北土城', '奥体中心', '奥林匹克公园']]\n"
     ]
    }
   ],
   "source": [
    "print(\"最少距离:{}\".format(search_destination(graph,\"南法信\",get_successor,lambda n: n == \"奥林匹克公园\", min_distance)))"
   ]
  },
  {
   "cell_type": "code",
   "execution_count": 50,
   "metadata": {
    "collapsed": false
   },
   "outputs": [
    {
     "name": "stdout",
     "output_type": "stream",
     "text": [
      "最少换乘:[['南法信', '后沙峪', '花梨坎', '国展', '孙河', '马泉营', '崔各庄', '望京东', '望京', '望京西', '关庄', '大屯路东', '安立路', '奥林匹克公园'], ['南法信', '后沙峪', '花梨坎', '国展', '孙河', '马泉营', '崔各庄', '望京东', '望京', '望京西', '芍药居', '惠新西街南口', '安贞门', '北土城', '奥体中心', '奥林匹克公园']]\n"
     ]
    }
   ],
   "source": [
    "print(\"最少换乘:{}\".format(search_destination(graph,\"南法信\",get_successor,lambda n: n == \"奥林匹克公园\", min_transfer)))"
   ]
  },
  {
   "cell_type": "code",
   "execution_count": 51,
   "metadata": {
    "collapsed": false
   },
   "outputs": [
    {
     "name": "stdout",
     "output_type": "stream",
     "text": [
      "最少站数:[['南法信', '后沙峪', '花梨坎', '国展', '孙河', '马泉营', '崔各庄', '望京东', '望京', '望京西', '关庄', '大屯路东', '安立路', '奥林匹克公园'], ['南法信', '后沙峪', '花梨坎', '国展', '孙河', '马泉营', '崔各庄', '望京东', '望京', '望京西', '芍药居', '惠新西街南口', '安贞门', '北土城', '奥体中心', '奥林匹克公园']]\n"
     ]
    }
   ],
   "source": [
    "print(\"最少站数:{}\".format(search_destination(graph,\"南法信\",get_successor,lambda n: n == \"奥林匹克公园\", min_stations)))"
   ]
  },
  {
   "cell_type": "code",
   "execution_count": null,
   "metadata": {
    "collapsed": true
   },
   "outputs": [],
   "source": []
  }
 ],
 "metadata": {
  "anaconda-cloud": {},
  "kernelspec": {
   "display_name": "Python [default]",
   "language": "python",
   "name": "python3"
  },
  "language_info": {
   "codemirror_mode": {
    "name": "ipython",
    "version": 3
   },
   "file_extension": ".py",
   "mimetype": "text/x-python",
   "name": "python",
   "nbconvert_exporter": "python",
   "pygments_lexer": "ipython3",
   "version": "3.5.2"
  }
 },
 "nbformat": 4,
 "nbformat_minor": 2
}
